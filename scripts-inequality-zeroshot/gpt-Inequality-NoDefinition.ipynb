{
 "cells": [
  {
   "cell_type": "code",
   "execution_count": null,
   "id": "328b047f-96ca-4ef7-a3b6-1fdde9a04b8e",
   "metadata": {},
   "outputs": [],
   "source": [
    "#!pip install openai\n",
    "import os\n",
    "import pdb\n",
    "import time\n",
    "import openai\n",
    "import requests\n",
    "import pandas as pd "
   ]
  },
  {
   "cell_type": "code",
   "execution_count": 2,
   "id": "1b09a78a",
   "metadata": {},
   "outputs": [],
   "source": [
    "import warnings\n",
    "warnings.filterwarnings('ignore')"
   ]
  },
  {
   "cell_type": "code",
   "execution_count": 3,
   "id": "72152208",
   "metadata": {},
   "outputs": [],
   "source": [
    "from sklearn.metrics import precision_score, recall_score, confusion_matrix, accuracy_score, f1_score"
   ]
  },
  {
   "cell_type": "code",
   "execution_count": 4,
   "id": "9945d27c",
   "metadata": {},
   "outputs": [],
   "source": [
    "# change this key frequently\n",
    "\n",
    "OPENAI_API_KEY = \"\""
   ]
  },
  {
   "cell_type": "code",
   "execution_count": 5,
   "id": "9269e5a3",
   "metadata": {},
   "outputs": [],
   "source": [
    "openai.api_key = OPENAI_API_KEY"
   ]
  },
  {
   "cell_type": "code",
   "execution_count": 6,
   "id": "6e5994ce",
   "metadata": {},
   "outputs": [],
   "source": [
    "def label_message(meta_statement, definition, article, prompt, role_user=\"user\"):\n",
    "\n",
    "    completion = openai.chat.completions.create(model=\"gpt-4\",\n",
    "                                              temperature = 0, # make sure that all answers are the same, \n",
    "                                              max_tokens = 50, # 8,000 is the max token length for GPT3.5\n",
    "                                              messages=[{\"role\": \"system\", \"content\": \"You are a news classifier.\"},\n",
    "                                                        {\"role\": role_user, \"content\": meta_statement},\n",
    "                                                        # {\"role\": role_user, \"content\": f'Read this definition {definition}'},\n",
    "                                                        {\"role\": role_user, \"content\": f'Read this article {article}'},\n",
    "                                                        {\"role\": role_user, \"content\": prompt}]) \n",
    "    return completion.choices[0].message"
   ]
  },
  {
   "cell_type": "code",
   "execution_count": 7,
   "id": "669d9bfa",
   "metadata": {},
   "outputs": [],
   "source": [
    "news_articles = pd.read_json(\"old_data_clean_wo_missed_label.json\")"
   ]
  },
  {
   "cell_type": "code",
   "execution_count": 9,
   "id": "3aeae993",
   "metadata": {},
   "outputs": [],
   "source": [
    "def map_values(value):\n",
    "    if value == 'irrelevant':\n",
    "        return '5'\n",
    "    elif value == 'relchanges':\n",
    "        return '3'\n",
    "    elif value == 'explicit':\n",
    "        return '1'\n",
    "    elif value == 'releconomy':\n",
    "        return '4'\n",
    "    elif value == 'implicit':\n",
    "        return '2'\n",
    "    else:\n",
    "        return 'Unknown'"
   ]
  },
  {
   "cell_type": "code",
   "execution_count": 10,
   "id": "4c32418b",
   "metadata": {},
   "outputs": [
    {
     "data": {
      "text/plain": [
       "array(['5', '3', '1', '4', '2'], dtype=object)"
      ]
     },
     "execution_count": 10,
     "metadata": {},
     "output_type": "execute_result"
    }
   ],
   "source": [
    "# Apply the function to create the new column\n",
    "news_articles['label'] = news_articles['five_code'].apply(map_values)\n",
    "news_articles['label'].unique()"
   ]
  },
  {
   "cell_type": "code",
   "execution_count": 11,
   "id": "48a1818b",
   "metadata": {},
   "outputs": [
    {
     "data": {
      "text/plain": [
       "786"
      ]
     },
     "execution_count": 11,
     "metadata": {},
     "output_type": "execute_result"
    }
   ],
   "source": [
    "rel_news_articles = news_articles[news_articles['label'] != '5'].reset_index(drop=True)\n",
    "len(rel_news_articles)"
   ]
  },
  {
   "cell_type": "code",
   "execution_count": 12,
   "id": "bccd4afa",
   "metadata": {},
   "outputs": [
    {
     "data": {
      "text/plain": [
       "array(['3', '1', '4', '2'], dtype=object)"
      ]
     },
     "execution_count": 12,
     "metadata": {},
     "output_type": "execute_result"
    }
   ],
   "source": [
    "rel_news_articles['label'].unique()"
   ]
  },
  {
   "cell_type": "code",
   "execution_count": 13,
   "id": "0419f5ff",
   "metadata": {},
   "outputs": [],
   "source": [
    "inequality_def = \"\"\"Criteria for referencing economic inequality in the United States:\n",
    "(1) Wage, earnings, pay, and income inequality. \n",
    "(2) Causes and policy solutions related to economic inequality. \n",
    "(3) Relational or comparative language among different social class groups.\"\"\""
   ]
  },
  {
   "cell_type": "code",
   "execution_count": 14,
   "id": "68c00b52",
   "metadata": {},
   "outputs": [],
   "source": [
    "research_goal = \"\"\"We categorize articles that are related to issues of income inequality, changes in income or wealth, general economic conditions.\"\"\""
   ]
  },
  {
   "cell_type": "code",
   "execution_count": 17,
   "id": "42d059f8",
   "metadata": {},
   "outputs": [],
   "source": [
    "cols = rel_news_articles.columns.to_list()"
   ]
  },
  {
   "cell_type": "code",
   "execution_count": 18,
   "id": "d126e142",
   "metadata": {},
   "outputs": [],
   "source": [
    "keep_cols = cols[:37] \n",
    "keep_cols.append('token_count')\n",
    "#keep_cols"
   ]
  },
  {
   "cell_type": "code",
   "execution_count": 19,
   "id": "e2065949",
   "metadata": {
    "scrolled": true
   },
   "outputs": [],
   "source": [
    "# only binary 1: \n",
    "binary1 = rel_news_articles[keep_cols]"
   ]
  },
  {
   "cell_type": "code",
   "execution_count": null,
   "id": "d1594432",
   "metadata": {},
   "outputs": [],
   "source": [
    "messages = []\n",
    "max_char = 8000*3 \n",
    "max_token = 7500 # cushion for definition and meta-statement\n",
    "for i in range(len(binary1)):\n",
    "    if i % 100 == 0: \n",
    "        print(\"processing message\", i)\n",
    "    title = binary1.loc[i, 'title']\n",
    "    content = binary1.loc[i, 'text']\n",
    "    if binary1.loc[i,'token_count'] <= max_token: \n",
    "        content = f'title: {title} \\n article: {content}'\n",
    "    else: \n",
    "        content = f'title: {title} \\n article: {content[:max_char]}'\n",
    "    article_prompt = \"Does the article reference American economic inequality? Respond with 'Yes' if article meets any or all criteria referencing American economic inequality and 'No' if article meets none of the criteria, and explain why in 1 sentence.\"\n",
    "    while True: \n",
    "        try: \n",
    "            output_message = label_message(meta_statement=research_goal, \n",
    "                                           article=content, \n",
    "                                           definition=inequality_def, \n",
    "                                           prompt=article_prompt)\n",
    "            break \n",
    "        except Exception as e:\n",
    "             time.sleep(30)       # add time lag of 30 seconds when an error occurs \n",
    "    messages.append(output_message) \n",
    "#     pdb.set_trace()"
   ]
  },
  {
   "cell_type": "code",
   "execution_count": 23,
   "id": "b8ac4292",
   "metadata": {
    "scrolled": true
   },
   "outputs": [],
   "source": [
    "binary1['output_message'] = [message.content for message in messages]"
   ]
  },
  {
   "cell_type": "code",
   "execution_count": 24,
   "id": "c8751ce7",
   "metadata": {},
   "outputs": [],
   "source": [
    "binary1['output_message'] = binary1['output_message'].str.lower()"
   ]
  },
  {
   "cell_type": "code",
   "execution_count": 26,
   "id": "ff45495e",
   "metadata": {},
   "outputs": [],
   "source": [
    "def parse_answers(binary1, messages): \n",
    "    '''\n",
    "    parse the answer to binary no - non-inequality, yes - inequality \n",
    "    '''\n",
    "    predicted = []\n",
    "    for message in messages: \n",
    "        if message.startswith(\"yes\"): \n",
    "            predicted.append('yes')\n",
    "        elif message.startswith(\"no\"): \n",
    "            predicted.append('no')\n",
    "        else: \n",
    "            predicted.append('flag')\n",
    "    binary1['predicted_label'] = predicted\n",
    "    return "
   ]
  },
  {
   "cell_type": "code",
   "execution_count": 27,
   "id": "4f9310ee",
   "metadata": {},
   "outputs": [],
   "source": [
    "parse_answers(binary1, binary1['output_message'])"
   ]
  },
  {
   "cell_type": "code",
   "execution_count": 31,
   "id": "4806ad51",
   "metadata": {},
   "outputs": [],
   "source": [
    "# if code in (1, 2) then it's inequality \n",
    "labels = [int(code_i in (1, 2)) for code_i in binary1.code]"
   ]
  },
  {
   "cell_type": "code",
   "execution_count": 33,
   "id": "0de2de98",
   "metadata": {},
   "outputs": [],
   "source": [
    "binary1['label'] = labels"
   ]
  },
  {
   "cell_type": "code",
   "execution_count": 36,
   "id": "72c6f8be",
   "metadata": {},
   "outputs": [],
   "source": [
    "# assign all predicted labels as 0 \n",
    "binary1['pred'] = [0]*len(binary1)"
   ]
  },
  {
   "cell_type": "code",
   "execution_count": 37,
   "id": "809a34d5",
   "metadata": {},
   "outputs": [],
   "source": [
    "# change those predicted as inequality to 1 \n",
    "binary1.loc[binary1.predicted_label=='yes', 'pred'] = 1"
   ]
  },
  {
   "cell_type": "code",
   "execution_count": 43,
   "id": "2384964e",
   "metadata": {},
   "outputs": [],
   "source": [
    "# save the output for future comparison if needed \n",
    "binary1.to_csv(\"../data/inequality_dataset_GPT_Inequality_NoDefinition.csv\", index=False)"
   ]
  }
 ],
 "metadata": {
  "kernelspec": {
   "display_name": "Python 3 (ipykernel)",
   "language": "python",
   "name": "python3"
  },
  "language_info": {
   "codemirror_mode": {
    "name": "ipython",
    "version": 3
   },
   "file_extension": ".py",
   "mimetype": "text/x-python",
   "name": "python",
   "nbconvert_exporter": "python",
   "pygments_lexer": "ipython3",
   "version": "3.9.21"
  }
 },
 "nbformat": 4,
 "nbformat_minor": 5
}
