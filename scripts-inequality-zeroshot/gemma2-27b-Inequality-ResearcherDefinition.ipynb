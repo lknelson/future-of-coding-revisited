{
 "cells": [
  {
   "cell_type": "code",
   "execution_count": 1,
   "id": "27134c8a",
   "metadata": {},
   "outputs": [],
   "source": [
    "import ollama\n",
    "import pandas as pd"
   ]
  },
  {
   "cell_type": "markdown",
   "id": "9474a982",
   "metadata": {},
   "source": [
    "## Classification Schema Selection"
   ]
  },
  {
   "cell_type": "markdown",
   "id": "ac5cb83f",
   "metadata": {},
   "source": [
    "Selection:\n",
    "\n",
    "binary1: irrelevant vs. explicit/implicit/relchanges/releconomy\n",
    "\n",
    "binary2: relchanges/releconomy/irrelevant vs. explicit/implicit\n",
    "\n",
    "binary3: releconomy/irrelevant vs. explicit/implicit/relchanges\n",
    "\n",
    "three_code1: irrelevant vs. implicit/relchanges/releconomy vs. explicit\n",
    "\n",
    "three_code2: irrelevant vs. relchanges/releconomy vs. explicit/implicit\n",
    "\n",
    "three_code3: releconomy/irrelevant vs. relchanges vs. explicit/implicit\n",
    "\n",
    "four_code: irrelevant vs. relchanges/releconomy\t vs. explicit vs. implicit\n",
    "\n",
    "four_code2: irrelevant vs. relchanges vs. explicit/implicit vs. releconomy\n",
    "\n",
    "five_code: irrelevant vs. relchanges vs. explicit vs. releconomy vs. implicit\n",
    "    "
   ]
  },
  {
   "cell_type": "code",
   "execution_count": null,
   "id": "3cc81868",
   "metadata": {},
   "outputs": [],
   "source": [
    "corpus = pd.read_json('../data/old_data_clean.json')\n",
    "\n",
    "def map_values(value):\n",
    "    if value == 'irrelevant':\n",
    "        return '5'\n",
    "    elif value == 'relchanges':\n",
    "        return '3'\n",
    "    elif value == 'explicit':\n",
    "        return '1'\n",
    "    elif value == 'releconomy':\n",
    "        return '4'\n",
    "    elif value == 'implicit':\n",
    "        return '2'\n",
    "    else:\n",
    "        return 'Unknown'\n",
    "        \n",
    "corpus['label'] = corpus['five_code'].apply(map_values)\n",
    "rel_corpus = corpus[corpus['label'] != '5'].reset_index(drop=True)"
   ]
  },
  {
   "cell_type": "code",
   "execution_count": null,
   "id": "118dc140",
   "metadata": {},
   "outputs": [],
   "source": [
    "inequality_definition = \"\"\"\n",
    "The irrelevant category includes all stories that are not on the U.S.; are on racial or gender inequality or gay rights in the U.S.; individuals whose names are part of a subject term (e.g., Marc Rich); references to popular culture that include part of a subject term (e.g., a movie named “Big Business”); clearly personal affairs about a single individual that do not comment on broader conditions; noneconomic elites (e.g., in art or religion or politics, in which high economic status is neither implicit nor explicit); and social class as a predictor of non-economic phenomenon (e.g., health, education, drug use, social mobility, conspicuous and other kinds of consumption). Occasionally there are stories on famous individuals or criminal cases or cases of corporate or union corruption that are treated as unique situations and do not have any reflection on broader conditions. In these cases, the article can be coded as irrelevant.\n",
    "Some articles on the above subjects, however, will also mention trends in economic inequality in the article and therefore can be relevant. Similarly, if an article is on any of the above topics and income inequality, then it will be relevant as well. For example, some articles may consist mainly of discussions of policy or political debates and particular politicians. Nevertheless, if qualifying text on relinquality, relchanges, or releconomy are in the article, then it will not be irrelevant.\n",
    "\"\"\""
   ]
  },
  {
   "cell_type": "code",
   "execution_count": null,
   "id": "dcd1d4f2",
   "metadata": {},
   "outputs": [],
   "source": [
    "max_char = 8000 * 4\n",
    "\n",
    "output_list = []\n",
    "\n",
    "meta_statement = \"\"\"We categorize articles that are related to issues of income inequality, changes in income or wealth, general economic conditions.\"\"\"\n",
    "\n",
    "inequality_definition = \"\"\"Criteria for referencing economic inequality in the United States:\n",
    "(1) Wage, earnings, pay, and income inequality.\n",
    "(2) Causes and policy solutions related to economic inequality.\n",
    "(3) Relational or comparative language among different social class groups.\n",
    "\"\"\"\n",
    "\n",
    "prompt = \"Does the article reference American economic inequality? Respond with 'Yes' if article meets any or all criteria referencing American economic inequality and 'No' if article meets none of the criteria, and explain why in 1 sentence.\"\n",
    "\n",
    "for num in range(len(rel_corpus)):\n",
    "    text = 'Title: ' + rel_corpus.loc[num,'title'] + '\\n' + rel_corpus.loc[num,'text'][:max_char]\n",
    "    print(num)\n",
    "    print(text[:20])\n",
    "    \n",
    "    response = ollama.chat(\n",
    "        model=\"gemma2:27b\",\n",
    "        messages=[\n",
    "            {\n",
    "                \"role\": \"system\",\n",
    "                \"content\": \"You are a news classifier.\"\n",
    "            },\n",
    "            {\n",
    "                \"role\": \"user\",\n",
    "                \"content\": meta_statement,\n",
    "            },\n",
    "            \n",
    "            {\n",
    "                \"role\": \"user\",\n",
    "                \"content\": \"Read this definition: \" + inequality_definition,\n",
    "            },\n",
    "\n",
    "            {\n",
    "                \"role\": \"user\",\n",
    "                \"content\": \"Read this article: \" + text,\n",
    "            },\n",
    "            {\n",
    "                \"role\": \"user\",\n",
    "                \"content\": prompt\n",
    "            \n",
    "            },\n",
    "        ],\n",
    "    options={\n",
    "    \"seed\": 101,\n",
    "    \"temperature\": 0,\n",
    "    \"num_ctx\": 8020,\n",
    "    \"num_threads\": 30,\n",
    "    #\"num_predict\": 10,\n",
    "      }\n",
    "    )\n",
    "    output_list.append((response[\"message\"][\"content\"]))"
   ]
  },
  {
   "cell_type": "code",
   "execution_count": null,
   "id": "35cf2235",
   "metadata": {},
   "outputs": [],
   "source": [
    "rel_corpus['llama_content'] = output_list\n",
    "\n",
    "rel_corpus['gen_code'] = rel_corpus['content']\n",
    "\n",
    "rel_corpus.loc[rel_corpus['content'].str.lower().str.startswith('no'), 'gen_code'] = 0\n",
    "rel_corpus.loc[rel_corpus['content'].str.lower().str.startswith('yes'), 'gen_code'] = 1\n",
    "\n",
    "columns = ['title', 'year', 'month', 'journal', 'code', 'weight', 'code_label', 'id', 'code', 'content', 'gen_code']\n",
    "rel_corpus = rel_corpus[columns]"
   ]
  },
  {
   "cell_type": "code",
   "execution_count": 24,
   "id": "4886c372",
   "metadata": {},
   "outputs": [],
   "source": [
    "rel_corpus.to_csv('../data/inequality_dataset_gemma2-27b-Inequality-ResearcherDefinition.csv')"
   ]
  }
 ],
 "metadata": {
  "kernelspec": {
   "display_name": "Python 3 (ipykernel)",
   "language": "python",
   "name": "python3"
  },
  "language_info": {
   "codemirror_mode": {
    "name": "ipython",
    "version": 3
   },
   "file_extension": ".py",
   "mimetype": "text/x-python",
   "name": "python",
   "nbconvert_exporter": "python",
   "pygments_lexer": "ipython3",
   "version": "3.9.21"
  }
 },
 "nbformat": 4,
 "nbformat_minor": 5
}
