{
 "cells": [
  {
   "cell_type": "code",
   "execution_count": 1,
   "id": "0dc1530b",
   "metadata": {},
   "outputs": [],
   "source": [
    "import os\n",
    "import pdb\n",
    "import time\n",
    "import openai\n",
    "import requests\n",
    "import pandas as pd "
   ]
  },
  {
   "cell_type": "code",
   "execution_count": 2,
   "id": "1b09a78a",
   "metadata": {},
   "outputs": [],
   "source": [
    "import warnings\n",
    "warnings.filterwarnings('ignore')"
   ]
  },
  {
   "cell_type": "code",
   "execution_count": 3,
   "id": "72152208",
   "metadata": {},
   "outputs": [],
   "source": [
    "from sklearn.metrics import precision_score, recall_score, confusion_matrix, accuracy_score, f1_score"
   ]
  },
  {
   "cell_type": "code",
   "execution_count": 73,
   "id": "9945d27c",
   "metadata": {},
   "outputs": [],
   "source": [
    "# change this key frequently\n",
    "OPENAI_API_KEY = \"\""
   ]
  },
  {
   "cell_type": "code",
   "execution_count": 74,
   "id": "9269e5a3",
   "metadata": {},
   "outputs": [],
   "source": [
    "openai.api_key = OPENAI_API_KEY"
   ]
  },
  {
   "cell_type": "code",
   "execution_count": 75,
   "id": "6e5994ce",
   "metadata": {},
   "outputs": [],
   "source": [
    "def label_message(meta_statement, definition, article, prompt, role_user=\"user\"):\n",
    "\n",
    "    completion = openai.chat.completions.create(model=\"gpt-4\",\n",
    "                                              temperature = 0, # make sure that all answers are the same, \n",
    "                                              max_tokens = 40, # 8,000 is the max token length for GPT3.5, reduce this such that the total token is not beyond 8000 tokens \n",
    "                                              messages=[{\"role\": \"system\", \"content\": \"You are a news classifier.\"},\n",
    "                                                        {\"role\": role_user, \"content\": meta_statement},\n",
    "                                                        {\"role\": role_user, \"content\": f'Read this definition {definition}'},\n",
    "                                                        {\"role\": role_user, \"content\": f'Read this article {article}'},\n",
    "                                                        {\"role\": role_user, \"content\": prompt}]) \n",
    "    return completion.choices[0].message"
   ]
  },
  {
   "cell_type": "code",
   "execution_count": 76,
   "id": "669d9bfa",
   "metadata": {},
   "outputs": [],
   "source": [
    "news_articles = pd.read_json(\"old_data_clean.json\")\n"
   ]
  },
  {
   "cell_type": "code",
   "execution_count": 77,
   "id": "93031230",
   "metadata": {},
   "outputs": [],
   "source": [
    "# get the token count: \n",
    "token_count = pd.read_json(\"old_data_clean.json\")"
   ]
  },
  {
   "cell_type": "code",
   "execution_count": 78,
   "id": "36fe7128",
   "metadata": {},
   "outputs": [],
   "source": [
    "news_articles['token_count'] = token_count['token_count']"
   ]
  },
  {
   "cell_type": "code",
   "execution_count": null,
   "id": "0419f5ff",
   "metadata": {},
   "outputs": [],
   "source": [
    "## definition vetted by hand by Leslie after GPT summarizing the bullet point \n",
    "inequality_path =  '../data/inequality_combined_gpt.txt'\n",
    "with open(inequality_path, 'r') as file:\n",
    "    inequality_def = file.read()\n",
    "# Display the content\n",
    "inequality_def  = \"Inequality artiles are defined as: \\n\" + inequality_def\n",
    "print(inequality_def)"
   ]
  },
  {
   "cell_type": "code",
   "execution_count": 83,
   "id": "68c00b52",
   "metadata": {},
   "outputs": [],
   "source": [
    "research_goal = \"\"\"We categorize articles that are related to issues of income inequality, changes in income or wealth, general economic conditions.\"\"\""
   ]
  },
  {
   "cell_type": "code",
   "execution_count": 84,
   "id": "b809c6c7",
   "metadata": {},
   "outputs": [
    {
     "data": {
      "text/plain": [
       "'Inequality artiles are defined as: \\n- Inequality articles are those that explicitly mention economic inequality or gaps between different economic or social class groups.\\n- They often include references to changes in economic groups, such as rising or falling pay, but this is not a requirement.\\n- They must mention economic/social class groups, which are defined by financial status including wages, non-cash compensation, investment income, wealth and assets, and income from government or private sources.\\n- The articles may refer to broad economic/social class groups, which are defined roughly as quintiles, quarters or thirds of the distribution, such as top, middle, bottom, or equivalents in terms of occupations or beneficiaries.\\n- They may also refer to hierarchically related economic/social class groups, which are two or more broad groups that are in a hierarchical/vertical relation to each other.\\n- The goal of these articles is to identify vertical groups being pitted against each other, usually in a zero-sum manner, rather than horizontal inequalities.\\n- Any single mention of text that meets the criteria *for the inequality* category qualifies an article as within that category.\\n- Inequality articles are those that discuss the relative differences in income, wealth, wages, compensation, benefits, etc. between two or more hierarchically ordered groups. This is coded as an article on inequality.\\n- If an article mentions that tax cuts are proportionally greater for top than bottom or vice versa, affecting inequality, then it would be coded as an article on inequality.\\n- Articles in which multiple groups are mentioned but not compared explicitly are *still to be coded as inequality*. \\n- Tax changes that signal regressive or progressive changes if the regressive or progressive nature of the change is not stated directly could be considered either explicit or implicit.\\n- Articles that mention low skill and high skill workers, and even say that the low skilled are doing worse than the high skilled, are not explicit enough language to automatically categorize in the *inequality* category. The article must explicitly mention wages/compensation/benefits/etc with respect to these jobs, and there must be explicit language that one group is benefitting/losing more than the other(s).\\n- If an article is mainly about unemployment or a growing or contracting economy but mentions earnings/income with respect to any group (even average American), then it should be coded as *not on inequality*.\\n- Articles about the stock market are relevant in that they discuss income (unearned income) primarily of those at the top end of the distribution. These articles would most likely be coded as *not about inequality* but could also be *inequality* in some instances if other hierarchically related groups are mentioned along with their incomes/earnings/wealth/etc.\\n- Articles that are overwhelmingly about the economy/jobs/growth and not wages/income or inequality are categorized as *not on inequality*.'"
      ]
     },
     "execution_count": 84,
     "metadata": {},
     "output_type": "execute_result"
    }
   ],
   "source": [
    "## experiment 2: remove \"\\n\" character to save on token count if necessary \n",
    "inequality_def"
   ]
  },
  {
   "cell_type": "code",
   "execution_count": 85,
   "id": "42d059f8",
   "metadata": {},
   "outputs": [],
   "source": [
    "cols = news_articles.columns.to_list()"
   ]
  },
  {
   "cell_type": "code",
   "execution_count": 86,
   "id": "d126e142",
   "metadata": {},
   "outputs": [],
   "source": [
    "keep_cols = ['title',\n",
    " 'year',\n",
    " 'month',\n",
    " 'text',\n",
    " 'code',\n",
    " 'weight',\n",
    " 'code_label', \n",
    "'token_count']"
   ]
  },
  {
   "cell_type": "code",
   "execution_count": 87,
   "id": "e2065949",
   "metadata": {},
   "outputs": [],
   "source": [
    "# only binary 1: \n",
    "binary1 = news_articles[keep_cols]"
   ]
  },
  {
   "cell_type": "code",
   "execution_count": 88,
   "id": "13a78446",
   "metadata": {},
   "outputs": [],
   "source": [
    "binary1 = binary1[binary1.code != 5].reset_index(drop=True)"
   ]
  },
  {
   "cell_type": "code",
   "execution_count": 70,
   "id": "84f255c9",
   "metadata": {},
   "outputs": [],
   "source": [
    "binary1['output_message'] = [\"\"]*len(binary1)"
   ]
  },
  {
   "cell_type": "code",
   "execution_count": null,
   "id": "d1594432",
   "metadata": {},
   "outputs": [],
   "source": [
    "max_char = 8000*3 \n",
    "max_token = 7000 \n",
    "for i in range(len(binary1)):\n",
    "    if i % 50 == 0: \n",
    "        print(\"processing message\", i)\n",
    "    title = binary1.loc[i, 'title']\n",
    "    content = binary1.loc[i, 'text']\n",
    "    if binary1.loc[i,'token_count'] <= max_token: \n",
    "        content = f'title: {title} \\n article: {content}'\n",
    "    else: \n",
    "        content = f'title: {title} \\n article: {content[:max_char]}'\n",
    "    article_prompt = \"Is the article relevant to inequality? Answer yes or no, and why in One sentence.\"\n",
    "    while True: \n",
    "\n",
    "        try: \n",
    "            output_message = label_message(meta_statement=research_goal, \n",
    "                                           article=content, \n",
    "                                           definition=inequality_def, \n",
    "                                           prompt=article_prompt)\n",
    "\n",
    "            binary1.loc[i, 'output_message'] = output_message.content\n",
    "            break \n",
    "        except Exception as e:\n",
    "            print(f\"error happens here is {e}\")\n",
    "            time.sleep(30)       # add time lag of 30 seconds when an error occurs \n",
    "    #     pdb.set_trace()"
   ]
  },
  {
   "cell_type": "code",
   "execution_count": 94,
   "id": "3b6beaf0",
   "metadata": {},
   "outputs": [],
   "source": [
    "# create inequality label \n",
    "binary1['inequality_label'] = [0]*len(binary1)\n",
    "binary1.loc[(binary1.code==1)| (binary1.code==2), 'inequality_label'] = 1"
   ]
  },
  {
   "cell_type": "code",
   "execution_count": 99,
   "id": "03a84750",
   "metadata": {},
   "outputs": [],
   "source": [
    "# ininiate prediction of inequality with 0 \n",
    "binary1['inequality_pred'] = [0]*len(binary1)"
   ]
  },
  {
   "cell_type": "code",
   "execution_count": 100,
   "id": "bfa2521f",
   "metadata": {},
   "outputs": [],
   "source": [
    "binary1['output_message'] = binary1['output_message'].str.lower()"
   ]
  },
  {
   "cell_type": "code",
   "execution_count": 102,
   "id": "ff45495e",
   "metadata": {},
   "outputs": [],
   "source": [
    "# parse the output \n",
    "for i in range(len(binary1)): \n",
    "    if binary1.loc[i, 'output_message'] != '': \n",
    "        if binary1.loc[i, 'output_message'].startswith('yes'): \n",
    "            binary1.loc[i, 'inequality_pred'] = 1\n",
    "        elif binary1.loc[i, 'output_message'].startswith('no'): \n",
    "            binary1.loc[i, 'inequality_pred'] = 0\n",
    "        else: \n",
    "            binary1.loc[i, 'inequality_pred'] = 2 ## this is the extra test to make sure there's no stray answer "
   ]
  },
  {
   "cell_type": "code",
   "execution_count": 105,
   "id": "d0274522",
   "metadata": {},
   "outputs": [
    {
     "data": {
      "text/plain": [
       "inequality_pred\n",
       "0    424\n",
       "1    362\n",
       "Name: count, dtype: int64"
      ]
     },
     "execution_count": 105,
     "metadata": {},
     "output_type": "execute_result"
    }
   ],
   "source": [
    "# examining the output quality \n",
    "binary1['inequality_pred'].value_counts()"
   ]
  },
  {
   "cell_type": "code",
   "execution_count": 126,
   "id": "fe6b00df",
   "metadata": {},
   "outputs": [],
   "source": [
    "remerged_original = pd.merge(news_articles[['title','id_of_all_match','id']], binary1, how='left', on='title')"
   ]
  },
  {
   "cell_type": "code",
   "execution_count": 129,
   "id": "e4f73cb9",
   "metadata": {},
   "outputs": [],
   "source": [
    "# save the output for future comparison if needed \n",
    "remerged_original.to_csv(\"../data/inequality_dataset_GPT_Inequality-GPTDefinition.csv\", index=False)"
   ]
  }
 ],
 "metadata": {
  "kernelspec": {
   "display_name": "Python 3 (ipykernel)",
   "language": "python",
   "name": "python3"
  },
  "language_info": {
   "codemirror_mode": {
    "name": "ipython",
    "version": 3
   },
   "file_extension": ".py",
   "mimetype": "text/x-python",
   "name": "python",
   "nbconvert_exporter": "python",
   "pygments_lexer": "ipython3",
   "version": "3.9.21"
  }
 },
 "nbformat": 4,
 "nbformat_minor": 5
}
