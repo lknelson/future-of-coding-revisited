{
 "cells": [
  {
   "cell_type": "code",
   "execution_count": 1,
   "id": "eca8f10d-a6b5-4352-85eb-c37538829c26",
   "metadata": {},
   "outputs": [],
   "source": [
    "import pandas\n",
    "from sklearn.metrics import cohen_kappa_score\n",
    "from  nltk.metrics import agreement\n",
    "import numpy as np\n",
    "from sklearn.metrics import precision_score, recall_score, confusion_matrix, accuracy_score, f1_score"
   ]
  },
  {
   "cell_type": "code",
   "execution_count": 2,
   "id": "76743781-6b22-4c8d-b57c-ccabc1f2c9c6",
   "metadata": {},
   "outputs": [],
   "source": [
    "df1 = pandas.read_csv('../data/inequality_dataset_llama3_1-70b-Inequality-NoDefinition.csv', index_col = 0)\n",
    "df2 = pandas.read_csv('../data/inequality_dataset_llama3-70b-Inequality-NoDefinition.csv', index_col = 0)\n",
    "df3 = pandas.read_csv('../data/inequality_dataset_gemma2-27b-Inequality-NoDefinition.csv', index_col = 0)\n",
    "df4 = pandas.read_csv('../data/inequality_dataset_GPT_Inequality_NoDefinition.csv', index_col=0)"
   ]
  },
  {
   "cell_type": "code",
   "execution_count": 4,
   "id": "1aa91309-d62d-422a-8d8f-21e66d7050b8",
   "metadata": {},
   "outputs": [
    {
     "data": {
      "text/html": [
       "<div>\n",
       "<style scoped>\n",
       "    .dataframe tbody tr th:only-of-type {\n",
       "        vertical-align: middle;\n",
       "    }\n",
       "\n",
       "    .dataframe tbody tr th {\n",
       "        vertical-align: top;\n",
       "    }\n",
       "\n",
       "    .dataframe thead th {\n",
       "        text-align: right;\n",
       "    }\n",
       "</style>\n",
       "<table border=\"1\" class=\"dataframe\">\n",
       "  <thead>\n",
       "    <tr style=\"text-align: right;\">\n",
       "      <th></th>\n",
       "      <th>llama31</th>\n",
       "      <th>llama3</th>\n",
       "      <th>gemma</th>\n",
       "      <th>gpt</th>\n",
       "      <th>code</th>\n",
       "    </tr>\n",
       "  </thead>\n",
       "  <tbody>\n",
       "    <tr>\n",
       "      <th>0</th>\n",
       "      <td>0</td>\n",
       "      <td>0</td>\n",
       "      <td>0</td>\n",
       "      <td>0</td>\n",
       "      <td>0</td>\n",
       "    </tr>\n",
       "    <tr>\n",
       "      <th>1</th>\n",
       "      <td>0</td>\n",
       "      <td>0</td>\n",
       "      <td>1</td>\n",
       "      <td>1</td>\n",
       "      <td>1</td>\n",
       "    </tr>\n",
       "    <tr>\n",
       "      <th>2</th>\n",
       "      <td>1</td>\n",
       "      <td>1</td>\n",
       "      <td>1</td>\n",
       "      <td>1</td>\n",
       "      <td>1</td>\n",
       "    </tr>\n",
       "    <tr>\n",
       "      <th>3</th>\n",
       "      <td>0</td>\n",
       "      <td>0</td>\n",
       "      <td>0</td>\n",
       "      <td>0</td>\n",
       "      <td>0</td>\n",
       "    </tr>\n",
       "    <tr>\n",
       "      <th>4</th>\n",
       "      <td>0</td>\n",
       "      <td>0</td>\n",
       "      <td>1</td>\n",
       "      <td>0</td>\n",
       "      <td>0</td>\n",
       "    </tr>\n",
       "  </tbody>\n",
       "</table>\n",
       "</div>"
      ],
      "text/plain": [
       "   llama31  llama3  gemma  gpt  code\n",
       "0        0       0      0    0     0\n",
       "1        0       0      1    1     1\n",
       "2        1       1      1    1     1\n",
       "3        0       0      0    0     0\n",
       "4        0       0      1    0     0"
      ]
     },
     "execution_count": 4,
     "metadata": {},
     "output_type": "execute_result"
    }
   ],
   "source": [
    "df = pandas.DataFrame()\n",
    "df['llama31'] = df1['gen_code']\n",
    "df['llama3'] = df2['gen_code']\n",
    "df['gemma'] = df3['gen_code']\n",
    "df['gpt'] = df4['gen_code']\n",
    "\n",
    "labels = [int(code_i in (1, 2)) for code_i in df1.code]\n",
    "\n",
    "df['code'] = labels\n",
    "\n",
    "df.head()"
   ]
  },
  {
   "cell_type": "markdown",
   "id": "193dffe4-6ad7-4525-950d-a031faf8635c",
   "metadata": {},
   "source": [
    "# Metrics without GPT"
   ]
  },
  {
   "cell_type": "code",
   "execution_count": 11,
   "id": "bb5a55b2-0f5e-4c8d-b3b8-03aaf3d00799",
   "metadata": {},
   "outputs": [
    {
     "data": {
      "text/plain": [
       "('a1', 0, 0)"
      ]
     },
     "execution_count": 11,
     "metadata": {},
     "output_type": "execute_result"
    }
   ],
   "source": [
    "data = []\n",
    "for idx, row in df.iterrows():\n",
    "    data.append((\"a1\", idx, row[\"llama31\"]))\n",
    "    data.append((\"a2\", idx, row[\"llama3\"]))\n",
    "    data.append((\"a3\", idx, row[\"gemma\"]))\n",
    "data[0]"
   ]
  },
  {
   "cell_type": "code",
   "execution_count": 12,
   "id": "516afa8c-adb3-4591-9f7b-cb39c0de4683",
   "metadata": {},
   "outputs": [],
   "source": [
    "atask = agreement.AnnotationTask(data=data)"
   ]
  },
  {
   "cell_type": "code",
   "execution_count": 13,
   "id": "4fe0ad75-fb94-4c43-8286-54e8e88e493f",
   "metadata": {},
   "outputs": [
    {
     "name": "stdout",
     "output_type": "stream",
     "text": [
      "Fleiss's Kappa: 0.6653988328512997\n"
     ]
    }
   ],
   "source": [
    "print(\"Fleiss's Kappa:\", atask.multi_kappa())"
   ]
  },
  {
   "cell_type": "markdown",
   "id": "74e21684-109c-4e8c-8cc3-2c1cccee7785",
   "metadata": {},
   "source": [
    "## Metrics for ensemble method"
   ]
  },
  {
   "cell_type": "code",
   "execution_count": 14,
   "id": "8201377f-ab4f-44cb-9272-c63f4df4bc8a",
   "metadata": {},
   "outputs": [],
   "source": [
    "ensemble = []\n",
    "\n",
    "for idx, row in df[['llama31', 'llama3', 'gemma', 'gpt']].iterrows():\n",
    "    #print(list(row))\n",
    "    ensemble.append((max(set(list(row)), key=list(row).count)))\n",
    "\n",
    "df['ensemble'] = ensemble"
   ]
  },
  {
   "cell_type": "code",
   "execution_count": 15,
   "id": "b91cd1b0-3f56-4f43-aafe-2cc0453f8998",
   "metadata": {},
   "outputs": [
    {
     "name": "stdout",
     "output_type": "stream",
     "text": [
      "\n",
      "Weighted average metrics:\n",
      "\n",
      "Precision for each class: ['0.65', '0.82']\n",
      "Weighted Average Precision 0.74\n",
      "Recall for each class: ['0.82', '0.65']\n",
      "Weighted Average Recall: 0.74\n",
      "F1 Score for each class: ['0.73', '0.73']\n",
      "Weighted Average F1 Score: 0.73\n"
     ]
    }
   ],
   "source": [
    "y_true = df.code\n",
    "y_pred = df.ensemble\n",
    "\n",
    "# calculate the precision and recall scores\n",
    "precision = precision_score(y_true, y_pred, pos_label=0)\n",
    "recall = recall_score(y_true, y_pred, pos_label=0)\n",
    "accuracy = accuracy_score(y_true, y_pred)\n",
    "f1 = f1_score(y_true, y_pred, pos_label=0)\n",
    "cm = confusion_matrix(y_true, y_pred)\n",
    "\n",
    "\n",
    "conf_matrix = confusion_matrix(y_true, y_pred)\n",
    "# Extract true positives for each class\n",
    "true_positives = np.diag(conf_matrix)\n",
    "\n",
    "# Calculate precision for each class\n",
    "precision_per_class = precision_score(y_true, y_pred, average=None)\n",
    "\n",
    "# Calculate proportion of true positives for each class\n",
    "total_true_positives = np.sum(true_positives)\n",
    "proportions = true_positives / total_true_positives\n",
    "\n",
    "weighted_avg_precision = np.sum(precision_per_class * proportions)\n",
    "\n",
    "    \n",
    "print(\"\\nWeighted average metrics:\\n\")\n",
    "\n",
    "precision_per_class = precision_score(y_true, y_pred, average=None)\n",
    "print(f\"Precision for each class: {[f'{r:.2f}' for r in precision_per_class]}\")\n",
    "weighted_avg_precision = np.sum(precision_per_class * proportions)\n",
    "print(f\"Weighted Average Precision {weighted_avg_precision:.2f}\")\n",
    "recall_per_class = recall_score(y_true, y_pred, average=None)\n",
    "print(f\"Recall for each class: {[f'{r:.2f}' for r in recall_per_class]}\")\n",
    "weighted_avg_recall = np.sum(recall_per_class * proportions)\n",
    "print(f\"Weighted Average Recall: {weighted_avg_recall:.2f}\")\n",
    "# Calculate F1 score for each class\n",
    "f1_per_class = f1_score(y_true, y_pred, average=None)\n",
    "print(f\"F1 Score for each class: {[f'{f:.2f}' for f in f1_per_class]}\")\n",
    "# Calculate weighted average F1 score\n",
    "weighted_avg_f1 = np.sum(f1_per_class * proportions)\n",
    "print(f\"Weighted Average F1 Score: {weighted_avg_f1:.2f}\")"
   ]
  },
  {
   "cell_type": "code",
   "execution_count": 16,
   "id": "77e1488c-e8a7-4ce3-be5c-7cb3e5dea00a",
   "metadata": {},
   "outputs": [
    {
     "name": "stdout",
     "output_type": "stream",
     "text": [
      "\n",
      "Weighted average metrics:\n",
      "\n",
      "Precision for each class: ['0.72', '0.84']\n",
      "Weighted Average Precision 0.78\n",
      "Recall for each class: ['0.82', '0.75']\n",
      "Weighted Average Recall: 0.78\n",
      "F1 Score for each class: ['0.77', '0.79']\n",
      "Weighted Average F1 Score: 0.78\n",
      "N = 587\n",
      "%agreement = 0.7468193384223919\n"
     ]
    }
   ],
   "source": [
    "df_agree = df[(df['llama31'] == df['llama3']) & (df['llama31'] == df['gemma']) & (df['llama3'] == df['gemma'])]\n",
    "y_true = df_agree.code.astype(int)\n",
    "y_pred = df_agree.gemma.astype(int)\n",
    "\n",
    "# precision/recall of the 0 categories\n",
    "## flipping the labels -> flipping precision/ recall -> high recall\n",
    "# calculate the precision and recall scores\n",
    "precision = precision_score(y_true, y_pred, pos_label=0)\n",
    "recall = recall_score(y_true, y_pred, pos_label=0)\n",
    "accuracy = accuracy_score(y_true, y_pred)\n",
    "f1 = f1_score(y_true, y_pred, pos_label=0)\n",
    "cm = confusion_matrix(y_true, y_pred)\n",
    "\n",
    "\n",
    "conf_matrix = confusion_matrix(y_true, y_pred)\n",
    "# Extract true positives for each class\n",
    "true_positives = np.diag(conf_matrix)\n",
    "\n",
    "# Calculate precision for each class\n",
    "#precision_per_class = precision_score(y_true, y_pred, average=None)\n",
    "weighted_avg_precision = precision_score(y_true, y_pred, average='weighted')\n",
    "\n",
    "\n",
    "\n",
    "# Calculate proportion of true positives for each class\n",
    "total_true_positives = np.sum(true_positives)\n",
    "proportions = true_positives / total_true_positives\n",
    "\n",
    "weighted_avg_precision = np.sum(precision_per_class * proportions)\n",
    "\n",
    "    \n",
    "print(\"\\nWeighted average metrics:\\n\")\n",
    "\n",
    "precision_per_class = precision_score(y_true, y_pred, average=None)\n",
    "print(f\"Precision for each class: {[f'{r:.2f}' for r in precision_per_class]}\")\n",
    "weighted_avg_precision = np.sum(precision_per_class * proportions)\n",
    "print(f\"Weighted Average Precision {weighted_avg_precision:.2f}\")\n",
    "recall_per_class = recall_score(y_true, y_pred, average=None)\n",
    "print(f\"Recall for each class: {[f'{r:.2f}' for r in recall_per_class]}\")\n",
    "weighted_avg_recall = np.sum(recall_per_class * proportions)\n",
    "print(f\"Weighted Average Recall: {weighted_avg_recall:.2f}\")\n",
    "# Calculate F1 score for each class\n",
    "f1_per_class = f1_score(y_true, y_pred, average=None)\n",
    "print(f\"F1 Score for each class: {[f'{f:.2f}' for f in f1_per_class]}\")\n",
    "# Calculate weighted average F1 score\n",
    "weighted_avg_f1 = np.sum(f1_per_class * proportions)\n",
    "print(f\"Weighted Average F1 Score: {weighted_avg_f1:.2f}\")\n",
    "\n",
    "print(f\"N = {len(df_agree)}\")\n",
    "print(f\"%agreement = {len(df_agree) / len(df)}\")"
   ]
  },
  {
   "cell_type": "markdown",
   "id": "50876f0a-fdcb-40ff-89bc-cfef878feaed",
   "metadata": {},
   "source": [
    "# Metrics with GPT\n",
    "\n",
    "Note these are not reported in the paper."
   ]
  },
  {
   "cell_type": "code",
   "execution_count": 5,
   "id": "965676fc-ae7e-46a4-b0fb-60f115ef6f7e",
   "metadata": {},
   "outputs": [
    {
     "data": {
      "text/plain": [
       "('a1', 0, 0)"
      ]
     },
     "execution_count": 5,
     "metadata": {},
     "output_type": "execute_result"
    }
   ],
   "source": [
    "data = []\n",
    "for idx, row in df.iterrows():\n",
    "    data.append((\"a1\", idx, row[\"llama31\"]))\n",
    "    data.append((\"a2\", idx, row[\"llama3\"]))\n",
    "    data.append((\"a3\", idx, row[\"gemma\"]))\n",
    "    data.append((\"a4\", idx, row[\"gpt\"]))\n",
    "data[0]"
   ]
  },
  {
   "cell_type": "code",
   "execution_count": 6,
   "id": "b192d890-5e09-4d7e-9541-95b4d27c0afe",
   "metadata": {},
   "outputs": [],
   "source": [
    "atask = agreement.AnnotationTask(data=data)"
   ]
  },
  {
   "cell_type": "code",
   "execution_count": 7,
   "id": "0f122f1a-72b7-42cb-b4f2-9c798c08349b",
   "metadata": {},
   "outputs": [
    {
     "name": "stdout",
     "output_type": "stream",
     "text": [
      "Fleiss's Kappa: 0.6813220332065631\n"
     ]
    }
   ],
   "source": [
    "print(\"Fleiss's Kappa:\", atask.multi_kappa())"
   ]
  },
  {
   "cell_type": "markdown",
   "id": "8a2c300b-2199-428b-9c53-9a92457716dc",
   "metadata": {},
   "source": [
    "## Metrics for ensemble method"
   ]
  },
  {
   "cell_type": "code",
   "execution_count": 8,
   "id": "0cf3f113-6c12-451e-9de7-bf1cd8cec2f5",
   "metadata": {},
   "outputs": [],
   "source": [
    "ensemble = []\n",
    "\n",
    "for idx, row in df[['llama31', 'llama3', 'gemma', 'gpt']].iterrows():\n",
    "    #print(list(row))\n",
    "    ensemble.append((max(set(list(row)), key=list(row).count)))\n",
    "\n",
    "df['ensemble'] = ensemble"
   ]
  },
  {
   "cell_type": "code",
   "execution_count": 9,
   "id": "6531a40a-4671-44b8-be6d-e89886c5c826",
   "metadata": {},
   "outputs": [
    {
     "name": "stdout",
     "output_type": "stream",
     "text": [
      "\n",
      "Weighted average metrics:\n",
      "\n",
      "Precision for each class: ['0.65', '0.82']\n",
      "Weighted Average Precision 0.74\n",
      "Recall for each class: ['0.82', '0.65']\n",
      "Weighted Average Recall: 0.74\n",
      "F1 Score for each class: ['0.73', '0.73']\n",
      "Weighted Average F1 Score: 0.73\n"
     ]
    }
   ],
   "source": [
    "y_true = df.code\n",
    "y_pred = df.ensemble\n",
    "\n",
    "# calculate the precision and recall scores\n",
    "precision = precision_score(y_true, y_pred, pos_label=0)\n",
    "recall = recall_score(y_true, y_pred, pos_label=0)\n",
    "accuracy = accuracy_score(y_true, y_pred)\n",
    "f1 = f1_score(y_true, y_pred, pos_label=0)\n",
    "cm = confusion_matrix(y_true, y_pred)\n",
    "\n",
    "\n",
    "conf_matrix = confusion_matrix(y_true, y_pred)\n",
    "# Extract true positives for each class\n",
    "true_positives = np.diag(conf_matrix)\n",
    "\n",
    "# Calculate precision for each class\n",
    "precision_per_class = precision_score(y_true, y_pred, average=None)\n",
    "\n",
    "# Calculate proportion of true positives for each class\n",
    "total_true_positives = np.sum(true_positives)\n",
    "proportions = true_positives / total_true_positives\n",
    "\n",
    "weighted_avg_precision = np.sum(precision_per_class * proportions)\n",
    "\n",
    "    \n",
    "print(\"\\nWeighted average metrics:\\n\")\n",
    "\n",
    "precision_per_class = precision_score(y_true, y_pred, average=None)\n",
    "print(f\"Precision for each class: {[f'{r:.2f}' for r in precision_per_class]}\")\n",
    "weighted_avg_precision = np.sum(precision_per_class * proportions)\n",
    "print(f\"Weighted Average Precision {weighted_avg_precision:.2f}\")\n",
    "recall_per_class = recall_score(y_true, y_pred, average=None)\n",
    "print(f\"Recall for each class: {[f'{r:.2f}' for r in recall_per_class]}\")\n",
    "weighted_avg_recall = np.sum(recall_per_class * proportions)\n",
    "print(f\"Weighted Average Recall: {weighted_avg_recall:.2f}\")\n",
    "# Calculate F1 score for each class\n",
    "f1_per_class = f1_score(y_true, y_pred, average=None)\n",
    "print(f\"F1 Score for each class: {[f'{f:.2f}' for f in f1_per_class]}\")\n",
    "# Calculate weighted average F1 score\n",
    "weighted_avg_f1 = np.sum(f1_per_class * proportions)\n",
    "print(f\"Weighted Average F1 Score: {weighted_avg_f1:.2f}\")"
   ]
  },
  {
   "cell_type": "code",
   "execution_count": 10,
   "id": "3f1ddcba-92a0-415f-8e91-2394c174bad5",
   "metadata": {},
   "outputs": [
    {
     "name": "stdout",
     "output_type": "stream",
     "text": [
      "\n",
      "Weighted average metrics:\n",
      "\n",
      "Precision for each class: ['0.72', '0.84']\n",
      "Weighted Average Precision 0.78\n",
      "Recall for each class: ['0.82', '0.75']\n",
      "Weighted Average Recall: 0.78\n",
      "F1 Score for each class: ['0.77', '0.79']\n",
      "Weighted Average F1 Score: 0.78\n",
      "N = 587\n",
      "%agreement = 0.7468193384223919\n"
     ]
    }
   ],
   "source": [
    "df_agree = df[(df['llama31'] == df['llama3']) & (df['llama31'] == df['gemma']) & (df['llama3'] == df['gemma'])]\n",
    "y_true = df_agree.code.astype(int)\n",
    "y_pred = df_agree.gemma.astype(int)\n",
    "\n",
    "# precision/recall of the 0 categories\n",
    "## flipping the labels -> flipping precision/ recall -> high recall\n",
    "# calculate the precision and recall scores\n",
    "precision = precision_score(y_true, y_pred, pos_label=0)\n",
    "recall = recall_score(y_true, y_pred, pos_label=0)\n",
    "accuracy = accuracy_score(y_true, y_pred)\n",
    "f1 = f1_score(y_true, y_pred, pos_label=0)\n",
    "cm = confusion_matrix(y_true, y_pred)\n",
    "\n",
    "\n",
    "conf_matrix = confusion_matrix(y_true, y_pred)\n",
    "# Extract true positives for each class\n",
    "true_positives = np.diag(conf_matrix)\n",
    "\n",
    "# Calculate precision for each class\n",
    "#precision_per_class = precision_score(y_true, y_pred, average=None)\n",
    "weighted_avg_precision = precision_score(y_true, y_pred, average='weighted')\n",
    "\n",
    "\n",
    "\n",
    "# Calculate proportion of true positives for each class\n",
    "total_true_positives = np.sum(true_positives)\n",
    "proportions = true_positives / total_true_positives\n",
    "\n",
    "weighted_avg_precision = np.sum(precision_per_class * proportions)\n",
    "\n",
    "    \n",
    "print(\"\\nWeighted average metrics:\\n\")\n",
    "\n",
    "precision_per_class = precision_score(y_true, y_pred, average=None)\n",
    "print(f\"Precision for each class: {[f'{r:.2f}' for r in precision_per_class]}\")\n",
    "weighted_avg_precision = np.sum(precision_per_class * proportions)\n",
    "print(f\"Weighted Average Precision {weighted_avg_precision:.2f}\")\n",
    "recall_per_class = recall_score(y_true, y_pred, average=None)\n",
    "print(f\"Recall for each class: {[f'{r:.2f}' for r in recall_per_class]}\")\n",
    "weighted_avg_recall = np.sum(recall_per_class * proportions)\n",
    "print(f\"Weighted Average Recall: {weighted_avg_recall:.2f}\")\n",
    "# Calculate F1 score for each class\n",
    "f1_per_class = f1_score(y_true, y_pred, average=None)\n",
    "print(f\"F1 Score for each class: {[f'{f:.2f}' for f in f1_per_class]}\")\n",
    "# Calculate weighted average F1 score\n",
    "weighted_avg_f1 = np.sum(f1_per_class * proportions)\n",
    "print(f\"Weighted Average F1 Score: {weighted_avg_f1:.2f}\")\n",
    "\n",
    "print(f\"N = {len(df_agree)}\")\n",
    "print(f\"%agreement = {len(df_agree) / len(df)}\")"
   ]
  }
 ],
 "metadata": {
  "kernelspec": {
   "display_name": "Python 3 (ipykernel)",
   "language": "python",
   "name": "python3"
  },
  "language_info": {
   "codemirror_mode": {
    "name": "ipython",
    "version": 3
   },
   "file_extension": ".py",
   "mimetype": "text/x-python",
   "name": "python",
   "nbconvert_exporter": "python",
   "pygments_lexer": "ipython3",
   "version": "3.9.21"
  }
 },
 "nbformat": 4,
 "nbformat_minor": 5
}
