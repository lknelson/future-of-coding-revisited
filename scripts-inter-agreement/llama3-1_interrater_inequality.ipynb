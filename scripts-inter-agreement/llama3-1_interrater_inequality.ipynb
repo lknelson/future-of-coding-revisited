{
 "cells": [
  {
   "cell_type": "code",
   "execution_count": 19,
   "id": "eca8f10d-a6b5-4352-85eb-c37538829c26",
   "metadata": {},
   "outputs": [],
   "source": [
    "import pandas\n",
    "from sklearn.metrics import cohen_kappa_score\n",
    "from  nltk.metrics import agreement\n",
    "import numpy as np\n",
    "from sklearn.metrics import precision_score, recall_score, confusion_matrix, accuracy_score, f1_score"
   ]
  },
  {
   "cell_type": "code",
   "execution_count": 20,
   "id": "76743781-6b22-4c8d-b57c-ccabc1f2c9c6",
   "metadata": {},
   "outputs": [],
   "source": [
    "df1 = pandas.read_csv('../data/inequality_dataset_llama3_1-70b-Inequality-NoDefinition.csv', index_col = 0)\n",
    "df2 = pandas.read_csv('../data/inequality_dataset_llama3_1-70b-Inequality-ResearcherDefinition.csv', index_col = 0)\n",
    "df3 = pandas.read_csv('../data/inequality_dataset_llama3_1-70b-Inequality-Llama3_1Definition.csv', index_col = 0)"
   ]
  },
  {
   "cell_type": "code",
   "execution_count": 21,
   "id": "1aa91309-d62d-422a-8d8f-21e66d7050b8",
   "metadata": {},
   "outputs": [],
   "source": [
    "df = pandas.DataFrame()\n",
    "df['nodef'] = df1['gen_code']\n",
    "df['redef'] = df2['gen_code']\n",
    "df['llmdef'] = df3['gen_code']\n",
    "labels = [int(code_i in (1, 2)) for code_i in df1.code]\n",
    "df['code'] = labels"
   ]
  },
  {
   "cell_type": "code",
   "execution_count": 22,
   "id": "965676fc-ae7e-46a4-b0fb-60f115ef6f7e",
   "metadata": {
    "scrolled": true
   },
   "outputs": [
    {
     "data": {
      "text/plain": [
       "('a1', 0, 0)"
      ]
     },
     "execution_count": 22,
     "metadata": {},
     "output_type": "execute_result"
    }
   ],
   "source": [
    "data = []\n",
    "for idx, row in df.iterrows():\n",
    "    data.append((\"a1\", idx, row[\"nodef\"]))\n",
    "    data.append((\"a2\", idx, row[\"redef\"]))\n",
    "    data.append((\"a3\", idx, row[\"llmdef\"]))\n",
    "data[0]"
   ]
  },
  {
   "cell_type": "code",
   "execution_count": 23,
   "id": "b192d890-5e09-4d7e-9541-95b4d27c0afe",
   "metadata": {},
   "outputs": [],
   "source": [
    "atask = agreement.AnnotationTask(data=data)"
   ]
  },
  {
   "cell_type": "code",
   "execution_count": 24,
   "id": "0f122f1a-72b7-42cb-b4f2-9c798c08349b",
   "metadata": {
    "scrolled": true
   },
   "outputs": [
    {
     "name": "stdout",
     "output_type": "stream",
     "text": [
      "Fleiss's Kappa: 0.7826510573854957\n"
     ]
    }
   ],
   "source": [
    "print(\"Fleiss's Kappa:\", atask.multi_kappa())"
   ]
  },
  {
   "cell_type": "markdown",
   "id": "d0d42504-8af5-403a-82bd-5142a64dc27e",
   "metadata": {},
   "source": [
    "## Metrics for ensemble method"
   ]
  },
  {
   "cell_type": "code",
   "execution_count": 25,
   "id": "1c9ea293-e677-4fb2-8a77-f6af36132cea",
   "metadata": {},
   "outputs": [],
   "source": [
    "ensemble = []\n",
    "\n",
    "for idx, row in df[['nodef', 'redef', 'llmdef']].iterrows():\n",
    "    #print(list(row))\n",
    "    ensemble.append((max(set(list(row)), key=list(row).count)))\n",
    "\n",
    "df['ensemble'] = ensemble"
   ]
  },
  {
   "cell_type": "code",
   "execution_count": 26,
   "id": "dfd28a18-d1bc-4d0a-be25-2aecf8a3baa4",
   "metadata": {},
   "outputs": [
    {
     "name": "stdout",
     "output_type": "stream",
     "text": [
      "\n",
      "Weighted average metrics:\n",
      "\n",
      "Precision for each class: ['0.65', '0.80']\n",
      "Weighted Average Precision 0.73\n",
      "Recall for each class: ['0.79', '0.67']\n",
      "Weighted Average Recall: 0.73\n",
      "F1 Score for each class: ['0.71', '0.73']\n",
      "Weighted Average F1 Score: 0.72\n"
     ]
    }
   ],
   "source": [
    "y_true = df.code\n",
    "y_pred = df.ensemble\n",
    "\n",
    "# calculate the precision and recall scores\n",
    "precision = precision_score(y_true, y_pred, pos_label=0)\n",
    "recall = recall_score(y_true, y_pred, pos_label=0)\n",
    "accuracy = accuracy_score(y_true, y_pred)\n",
    "f1 = f1_score(y_true, y_pred, pos_label=0)\n",
    "cm = confusion_matrix(y_true, y_pred)\n",
    "\n",
    "\n",
    "conf_matrix = confusion_matrix(y_true, y_pred)\n",
    "# Extract true positives for each class\n",
    "true_positives = np.diag(conf_matrix)\n",
    "\n",
    "# Calculate precision for each class\n",
    "precision_per_class = precision_score(y_true, y_pred, average=None)\n",
    "\n",
    "# Calculate proportion of true positives for each class\n",
    "total_true_positives = np.sum(true_positives)\n",
    "proportions = true_positives / total_true_positives\n",
    "\n",
    "weighted_avg_precision = np.sum(precision_per_class * proportions)\n",
    "\n",
    "    \n",
    "print(\"\\nWeighted average metrics:\\n\")\n",
    "\n",
    "precision_per_class = precision_score(y_true, y_pred, average=None)\n",
    "print(f\"Precision for each class: {[f'{r:.2f}' for r in precision_per_class]}\")\n",
    "weighted_avg_precision = np.sum(precision_per_class * proportions)\n",
    "print(f\"Weighted Average Precision {weighted_avg_precision:.2f}\")\n",
    "recall_per_class = recall_score(y_true, y_pred, average=None)\n",
    "print(f\"Recall for each class: {[f'{r:.2f}' for r in recall_per_class]}\")\n",
    "weighted_avg_recall = np.sum(recall_per_class * proportions)\n",
    "print(f\"Weighted Average Recall: {weighted_avg_recall:.2f}\")\n",
    "# Calculate F1 score for each class\n",
    "f1_per_class = f1_score(y_true, y_pred, average=None)\n",
    "print(f\"F1 Score for each class: {[f'{f:.2f}' for f in f1_per_class]}\")\n",
    "# Calculate weighted average F1 score\n",
    "weighted_avg_f1 = np.sum(f1_per_class * proportions)\n",
    "print(f\"Weighted Average F1 Score: {weighted_avg_f1:.2f}\")"
   ]
  },
  {
   "cell_type": "code",
   "execution_count": 27,
   "id": "9f570ec3-853d-47f0-8ee3-d50949510889",
   "metadata": {},
   "outputs": [
    {
     "name": "stdout",
     "output_type": "stream",
     "text": [
      "\n",
      "Weighted average metrics:\n",
      "\n",
      "Precision for each class: ['0.69', '0.84']\n",
      "Weighted Average Precision 0.77\n",
      "Recall for each class: ['0.83', '0.70']\n",
      "Weighted Average Recall: 0.76\n",
      "F1 Score for each class: ['0.75', '0.76']\n",
      "Weighted Average F1 Score: 0.76\n",
      "N = 658\n",
      "%agreement = 0.8371501272264631\n"
     ]
    }
   ],
   "source": [
    "df_agree = df[(df['nodef'] == df['redef']) & (df['nodef'] == df['llmdef'])]\n",
    "y_true = df_agree.code.astype(int)\n",
    "y_pred = df_agree.nodef.astype(int)\n",
    "\n",
    "# precision/recall of the 0 categories\n",
    "## flipping the labels -> flipping precision/ recall -> high recall\n",
    "# calculate the precision and recall scores\n",
    "precision = precision_score(y_true, y_pred, pos_label=0)\n",
    "recall = recall_score(y_true, y_pred, pos_label=0)\n",
    "accuracy = accuracy_score(y_true, y_pred)\n",
    "f1 = f1_score(y_true, y_pred, pos_label=0)\n",
    "cm = confusion_matrix(y_true, y_pred)\n",
    "\n",
    "\n",
    "conf_matrix = confusion_matrix(y_true, y_pred)\n",
    "# Extract true positives for each class\n",
    "true_positives = np.diag(conf_matrix)\n",
    "\n",
    "# Calculate precision for each class\n",
    "precision_per_class = precision_score(y_true, y_pred, average=None)\n",
    "\n",
    "# Calculate proportion of true positives for each class\n",
    "total_true_positives = np.sum(true_positives)\n",
    "proportions = true_positives / total_true_positives\n",
    "\n",
    "weighted_avg_precision = np.sum(precision_per_class * proportions)\n",
    "\n",
    "    \n",
    "print(\"\\nWeighted average metrics:\\n\")\n",
    "\n",
    "precision_per_class = precision_score(y_true, y_pred, average=None)\n",
    "print(f\"Precision for each class: {[f'{r:.2f}' for r in precision_per_class]}\")\n",
    "weighted_avg_precision = np.sum(precision_per_class * proportions)\n",
    "print(f\"Weighted Average Precision {weighted_avg_precision:.2f}\")\n",
    "recall_per_class = recall_score(y_true, y_pred, average=None)\n",
    "print(f\"Recall for each class: {[f'{r:.2f}' for r in recall_per_class]}\")\n",
    "weighted_avg_recall = np.sum(recall_per_class * proportions)\n",
    "print(f\"Weighted Average Recall: {weighted_avg_recall:.2f}\")\n",
    "# Calculate F1 score for each class\n",
    "f1_per_class = f1_score(y_true, y_pred, average=None)\n",
    "print(f\"F1 Score for each class: {[f'{f:.2f}' for f in f1_per_class]}\")\n",
    "# Calculate weighted average F1 score\n",
    "weighted_avg_f1 = np.sum(f1_per_class * proportions)\n",
    "print(f\"Weighted Average F1 Score: {weighted_avg_f1:.2f}\")\n",
    "\n",
    "print(f\"N = {len(df_agree)}\")\n",
    "print(f\"%agreement = {len(df_agree) / len(df)}\")"
   ]
  }
 ],
 "metadata": {
  "kernelspec": {
   "display_name": "Python 3 (ipykernel)",
   "language": "python",
   "name": "python3"
  },
  "language_info": {
   "codemirror_mode": {
    "name": "ipython",
    "version": 3
   },
   "file_extension": ".py",
   "mimetype": "text/x-python",
   "name": "python",
   "nbconvert_exporter": "python",
   "pygments_lexer": "ipython3",
   "version": "3.9.21"
  }
 },
 "nbformat": 4,
 "nbformat_minor": 5
}
