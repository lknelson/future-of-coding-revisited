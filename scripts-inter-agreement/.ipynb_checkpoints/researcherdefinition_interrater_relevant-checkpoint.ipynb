{
 "cells": [
  {
   "cell_type": "code",
   "execution_count": 26,
   "id": "eca8f10d-a6b5-4352-85eb-c37538829c26",
   "metadata": {},
   "outputs": [],
   "source": [
    "import pandas\n",
    "from sklearn.metrics import cohen_kappa_score\n",
    "from  nltk.metrics import agreement\n",
    "import numpy as np\n",
    "from sklearn.metrics import precision_score, recall_score, confusion_matrix, accuracy_score, f1_score"
   ]
  },
  {
   "cell_type": "code",
   "execution_count": 43,
   "id": "76743781-6b22-4c8d-b57c-ccabc1f2c9c6",
   "metadata": {
    "scrolled": true
   },
   "outputs": [],
   "source": [
    "df1 = pandas.read_csv('../data/inequality_dataset_llama3_1-70b-ResearcherDefinition.csv', index_col = 0)\n",
    "df2 = pandas.read_csv('../data/inequality_dataset_llama3-70b-ResearcherDefinition.csv', index_col = 0)\n",
    "df3 = pandas.read_csv('../data/inequality_dataset_gemma2-27b-ResearcherDefinition.csv', index_col = 0)\n",
    "df4 = pandas.read_csv('../data/inequality_dataset_GPT_ResearcherDefinition.csv', index_col=0)"
   ]
  },
  {
   "cell_type": "code",
   "execution_count": 44,
   "id": "1aa91309-d62d-422a-8d8f-21e66d7050b8",
   "metadata": {},
   "outputs": [
    {
     "data": {
      "text/html": [
       "<div>\n",
       "<style scoped>\n",
       "    .dataframe tbody tr th:only-of-type {\n",
       "        vertical-align: middle;\n",
       "    }\n",
       "\n",
       "    .dataframe tbody tr th {\n",
       "        vertical-align: top;\n",
       "    }\n",
       "\n",
       "    .dataframe thead th {\n",
       "        text-align: right;\n",
       "    }\n",
       "</style>\n",
       "<table border=\"1\" class=\"dataframe\">\n",
       "  <thead>\n",
       "    <tr style=\"text-align: right;\">\n",
       "      <th></th>\n",
       "      <th>llama31</th>\n",
       "      <th>llama3</th>\n",
       "      <th>gemma</th>\n",
       "      <th>gpt</th>\n",
       "      <th>code</th>\n",
       "    </tr>\n",
       "  </thead>\n",
       "  <tbody>\n",
       "    <tr>\n",
       "      <th>0</th>\n",
       "      <td>1</td>\n",
       "      <td>1</td>\n",
       "      <td>1</td>\n",
       "      <td>1</td>\n",
       "      <td>0</td>\n",
       "    </tr>\n",
       "    <tr>\n",
       "      <th>1</th>\n",
       "      <td>1</td>\n",
       "      <td>1</td>\n",
       "      <td>1</td>\n",
       "      <td>1</td>\n",
       "      <td>1</td>\n",
       "    </tr>\n",
       "    <tr>\n",
       "      <th>2</th>\n",
       "      <td>1</td>\n",
       "      <td>1</td>\n",
       "      <td>1</td>\n",
       "      <td>1</td>\n",
       "      <td>1</td>\n",
       "    </tr>\n",
       "    <tr>\n",
       "      <th>3</th>\n",
       "      <td>0</td>\n",
       "      <td>0</td>\n",
       "      <td>0</td>\n",
       "      <td>0</td>\n",
       "      <td>0</td>\n",
       "    </tr>\n",
       "    <tr>\n",
       "      <th>4</th>\n",
       "      <td>0</td>\n",
       "      <td>0</td>\n",
       "      <td>0</td>\n",
       "      <td>0</td>\n",
       "      <td>0</td>\n",
       "    </tr>\n",
       "  </tbody>\n",
       "</table>\n",
       "</div>"
      ],
      "text/plain": [
       "   llama31  llama3  gemma  gpt  code\n",
       "0        1       1      1    1     0\n",
       "1        1       1      1    1     1\n",
       "2        1       1      1    1     1\n",
       "3        0       0      0    0     0\n",
       "4        0       0      0    0     0"
      ]
     },
     "execution_count": 44,
     "metadata": {},
     "output_type": "execute_result"
    }
   ],
   "source": [
    "df = pandas.DataFrame()\n",
    "df['llama31'] = df1['gen_code']\n",
    "df['llama3'] = df2['gen_code']\n",
    "df['gemma'] = df3['gen_code']\n",
    "df['gpt'] = df4['gen_code']\n",
    "\n",
    "labels = [int(df1['code'][i] != 5) for i in range(len(df1))]\n",
    "\n",
    "df['code'] = labels\n",
    "\n",
    "df.head()"
   ]
  },
  {
   "cell_type": "markdown",
   "id": "ae03e882-140e-4e5a-b7df-5dc3d1a55462",
   "metadata": {},
   "source": [
    "# Metrics without GPT"
   ]
  },
  {
   "cell_type": "code",
   "execution_count": 45,
   "id": "3ac17d8c-4ffd-4bde-a07f-e9b4660820a2",
   "metadata": {},
   "outputs": [
    {
     "data": {
      "text/plain": [
       "('a1', 0, 1)"
      ]
     },
     "execution_count": 45,
     "metadata": {},
     "output_type": "execute_result"
    }
   ],
   "source": [
    "data = []\n",
    "for idx, row in df.iterrows():\n",
    "    data.append((\"a1\", idx, row[\"llama31\"]))\n",
    "    data.append((\"a2\", idx, row[\"llama3\"]))\n",
    "    data.append((\"a3\", idx, row[\"gemma\"]))\n",
    "data[0]"
   ]
  },
  {
   "cell_type": "code",
   "execution_count": 46,
   "id": "dea5e3f6-fb4f-4b76-9dc3-6bfa15f90710",
   "metadata": {},
   "outputs": [],
   "source": [
    "atask = agreement.AnnotationTask(data=data)"
   ]
  },
  {
   "cell_type": "code",
   "execution_count": 47,
   "id": "e7675d24-c0e2-4c95-859b-34d2814923bc",
   "metadata": {},
   "outputs": [
    {
     "name": "stdout",
     "output_type": "stream",
     "text": [
      "Fleiss's Kappa: 0.6788913730892423\n"
     ]
    }
   ],
   "source": [
    "print(\"Fleiss's Kappa:\", atask.multi_kappa())"
   ]
  },
  {
   "cell_type": "markdown",
   "id": "ab3a3cde-eaef-4c52-8c34-96a9fa647ebc",
   "metadata": {},
   "source": [
    "## Metrics for ensemble method"
   ]
  },
  {
   "cell_type": "code",
   "execution_count": 48,
   "id": "b04512f1-7fcf-414e-841b-7d6b4eec6304",
   "metadata": {},
   "outputs": [],
   "source": [
    "ensemble = []\n",
    "\n",
    "for idx, row in df[['llama31', 'llama3', 'gemma']].iterrows():\n",
    "    #print(list(row))\n",
    "    ensemble.append((max(set(list(row)), key=list(row).count)))\n",
    "\n",
    "df['ensemble'] = ensemble"
   ]
  },
  {
   "cell_type": "code",
   "execution_count": 50,
   "id": "7ec7bf4a-2d6b-424a-adbc-52c5672165fe",
   "metadata": {},
   "outputs": [
    {
     "name": "stdout",
     "output_type": "stream",
     "text": [
      "\n",
      "Weighted average metrics:\n",
      "\n",
      "Precision for each class: ['0.67', '0.87']\n",
      "Weighted Average Precision 0.79\n",
      "Recall for each class: ['0.80', '0.77']\n",
      "Weighted Average Recall: 0.78\n",
      "F1 Score for each class: ['0.73', '0.82']\n",
      "Weighted Average F1 Score: 0.78\n"
     ]
    }
   ],
   "source": [
    "y_true = df.code\n",
    "y_pred = df.ensemble\n",
    "\n",
    "# calculate the precision and recall scores\n",
    "precision = precision_score(y_true, y_pred, pos_label=0)\n",
    "recall = recall_score(y_true, y_pred, pos_label=0)\n",
    "accuracy = accuracy_score(y_true, y_pred)\n",
    "f1 = f1_score(y_true, y_pred, pos_label=0)\n",
    "cm = confusion_matrix(y_true, y_pred)\n",
    "\n",
    "\n",
    "conf_matrix = confusion_matrix(y_true, y_pred)\n",
    "# Extract true positives for each class\n",
    "true_positives = np.diag(conf_matrix)\n",
    "\n",
    "# Calculate precision for each class\n",
    "precision_per_class = precision_score(y_true, y_pred, average=None)\n",
    "\n",
    "# Calculate proportion of true positives for each class\n",
    "total_true_positives = np.sum(true_positives)\n",
    "proportions = true_positives / total_true_positives\n",
    "\n",
    "weighted_avg_precision = np.sum(precision_per_class * proportions)\n",
    "\n",
    "\n",
    "print(\"\\nWeighted average metrics:\\n\")\n",
    "\n",
    "precision_per_class = precision_score(y_true, y_pred, average=None)\n",
    "print(f\"Precision for each class: {[f'{r:.2f}' for r in precision_per_class]}\")\n",
    "weighted_avg_precision = np.sum(precision_per_class * proportions)\n",
    "print(f\"Weighted Average Precision {weighted_avg_precision:.2f}\")\n",
    "recall_per_class = recall_score(y_true, y_pred, average=None)\n",
    "print(f\"Recall for each class: {[f'{r:.2f}' for r in recall_per_class]}\")\n",
    "weighted_avg_recall = np.sum(recall_per_class * proportions)\n",
    "print(f\"Weighted Average Recall: {weighted_avg_recall:.2f}\")\n",
    "# Calculate F1 score for each class\n",
    "f1_per_class = f1_score(y_true, y_pred, average=None)\n",
    "print(f\"F1 Score for each class: {[f'{f:.2f}' for f in f1_per_class]}\")\n",
    "# Calculate weighted average F1 score\n",
    "weighted_avg_f1 = np.sum(f1_per_class * proportions)\n",
    "print(f\"Weighted Average F1 Score: {weighted_avg_f1:.2f}\")"
   ]
  },
  {
   "cell_type": "code",
   "execution_count": 51,
   "id": "85c56b59-8acc-4b2e-b80d-d9cc8ea2930a",
   "metadata": {},
   "outputs": [
    {
     "name": "stdout",
     "output_type": "stream",
     "text": [
      "\n",
      "Weighted average metrics:\n",
      "\n",
      "Precision for each class: ['0.81', '0.89']\n",
      "Weighted Average Precision 0.86\n",
      "Recall for each class: ['0.84', '0.87']\n",
      "Weighted Average Recall: 0.86\n",
      "F1 Score for each class: ['0.82', '0.88']\n",
      "Weighted Average F1 Score: 0.86\n",
      "N = 952\n",
      "%agreement = 0.7597765363128491\n"
     ]
    }
   ],
   "source": [
    "df_agree = df[(df['llama31'] == df['llama3']) & (df['llama31'] == df['gemma']) & (df['llama3'] == df['gemma'])]\n",
    "y_true = df_agree.code.astype(int)\n",
    "y_pred = df_agree.gemma.astype(int)\n",
    "\n",
    "# calculate the precision and recall scores\n",
    "precision = precision_score(y_true, y_pred, pos_label=0)\n",
    "recall = recall_score(y_true, y_pred, pos_label=0)\n",
    "accuracy = accuracy_score(y_true, y_pred)\n",
    "f1 = f1_score(y_true, y_pred, pos_label=0)\n",
    "cm = confusion_matrix(y_true, y_pred)\n",
    "\n",
    "\n",
    "conf_matrix = confusion_matrix(y_true, y_pred)\n",
    "# Extract true positives for each class\n",
    "true_positives = np.diag(conf_matrix)\n",
    "\n",
    "# Calculate precision for each class\n",
    "precision_per_class = precision_score(y_true, y_pred, average=None)\n",
    "\n",
    "# Calculate proportion of true positives for each class\n",
    "total_true_positives = np.sum(true_positives)\n",
    "proportions = true_positives / total_true_positives\n",
    "\n",
    "weighted_avg_precision = np.sum(precision_per_class * proportions)\n",
    "\n",
    "    \n",
    "print(\"\\nWeighted average metrics:\\n\")\n",
    "\n",
    "precision_per_class = precision_score(y_true, y_pred, average=None)\n",
    "print(f\"Precision for each class: {[f'{r:.2f}' for r in precision_per_class]}\")\n",
    "weighted_avg_precision = np.sum(precision_per_class * proportions)\n",
    "print(f\"Weighted Average Precision {weighted_avg_precision:.2f}\")\n",
    "recall_per_class = recall_score(y_true, y_pred, average=None)\n",
    "print(f\"Recall for each class: {[f'{r:.2f}' for r in recall_per_class]}\")\n",
    "weighted_avg_recall = np.sum(recall_per_class * proportions)\n",
    "print(f\"Weighted Average Recall: {weighted_avg_recall:.2f}\")\n",
    "# Calculate F1 score for each class\n",
    "f1_per_class = f1_score(y_true, y_pred, average=None)\n",
    "print(f\"F1 Score for each class: {[f'{f:.2f}' for f in f1_per_class]}\")\n",
    "# Calculate weighted average F1 score\n",
    "weighted_avg_f1 = np.sum(f1_per_class * proportions)\n",
    "print(f\"Weighted Average F1 Score: {weighted_avg_f1:.2f}\")\n",
    "\n",
    "print(f\"N = {len(df_agree)}\")\n",
    "print(f\"%agreement = {len(df_agree) / len(df)}\")"
   ]
  },
  {
   "cell_type": "markdown",
   "id": "c53c3294-c147-4dc8-8224-9ee887c75daa",
   "metadata": {},
   "source": [
    "# Metrics with GPT\n",
    "\n",
    "Note these are not reported in the paper."
   ]
  },
  {
   "cell_type": "code",
   "execution_count": 52,
   "id": "965676fc-ae7e-46a4-b0fb-60f115ef6f7e",
   "metadata": {},
   "outputs": [
    {
     "data": {
      "text/plain": [
       "('a1', 0, 1)"
      ]
     },
     "execution_count": 52,
     "metadata": {},
     "output_type": "execute_result"
    }
   ],
   "source": [
    "data = []\n",
    "for idx, row in df.iterrows():\n",
    "    data.append((\"a1\", idx, row[\"llama31\"]))\n",
    "    data.append((\"a2\", idx, row[\"llama3\"]))\n",
    "    data.append((\"a3\", idx, row[\"gemma\"]))\n",
    "    data.append((\"a4\", idx, row[\"gpt\"]))\n",
    "data[0]"
   ]
  },
  {
   "cell_type": "code",
   "execution_count": 53,
   "id": "b192d890-5e09-4d7e-9541-95b4d27c0afe",
   "metadata": {},
   "outputs": [],
   "source": [
    "atask = agreement.AnnotationTask(data=data)"
   ]
  },
  {
   "cell_type": "code",
   "execution_count": 54,
   "id": "0f122f1a-72b7-42cb-b4f2-9c798c08349b",
   "metadata": {},
   "outputs": [
    {
     "name": "stdout",
     "output_type": "stream",
     "text": [
      "Fleiss's Kappa: 0.6900216546489316\n"
     ]
    }
   ],
   "source": [
    "print(\"Fleiss's Kappa:\", atask.multi_kappa())"
   ]
  },
  {
   "cell_type": "markdown",
   "id": "b2cf5026-b1b3-4889-bdc2-db0b90ddf2e8",
   "metadata": {},
   "source": [
    "## Metrics for ensemble method"
   ]
  },
  {
   "cell_type": "code",
   "execution_count": 55,
   "id": "db1d4529-392a-4948-b375-288e41453f34",
   "metadata": {},
   "outputs": [],
   "source": [
    "ensemble = []\n",
    "\n",
    "for idx, row in df[['llama31', 'llama3', 'gemma', 'gpt']].iterrows():\n",
    "    #print(list(row))\n",
    "    ensemble.append((max(set(list(row)), key=list(row).count)))\n",
    "\n",
    "df['ensemble'] = ensemble"
   ]
  },
  {
   "cell_type": "code",
   "execution_count": 56,
   "id": "3db0a7ee-1c71-45cd-868d-a713c3f48c7a",
   "metadata": {},
   "outputs": [
    {
     "name": "stdout",
     "output_type": "stream",
     "text": [
      "\n",
      "Weighted average metrics:\n",
      "\n",
      "Precision for each class: ['0.67', '0.87']\n",
      "Weighted Average Precision 0.79\n",
      "Recall for each class: ['0.81', '0.76']\n",
      "Weighted Average Recall: 0.78\n",
      "F1 Score for each class: ['0.73', '0.81']\n",
      "Weighted Average F1 Score: 0.78\n"
     ]
    }
   ],
   "source": [
    "y_true = df.code\n",
    "y_pred = df.ensemble\n",
    "\n",
    "# calculate the precision and recall scores\n",
    "precision = precision_score(y_true, y_pred, pos_label=0)\n",
    "recall = recall_score(y_true, y_pred, pos_label=0)\n",
    "accuracy = accuracy_score(y_true, y_pred)\n",
    "f1 = f1_score(y_true, y_pred, pos_label=0)\n",
    "cm = confusion_matrix(y_true, y_pred)\n",
    "\n",
    "\n",
    "conf_matrix = confusion_matrix(y_true, y_pred)\n",
    "# Extract true positives for each class\n",
    "true_positives = np.diag(conf_matrix)\n",
    "\n",
    "# Calculate precision for each class\n",
    "precision_per_class = precision_score(y_true, y_pred, average=None)\n",
    "\n",
    "# Calculate proportion of true positives for each class\n",
    "total_true_positives = np.sum(true_positives)\n",
    "proportions = true_positives / total_true_positives\n",
    "\n",
    "weighted_avg_precision = np.sum(precision_per_class * proportions)\n",
    "\n",
    "\n",
    "print(\"\\nWeighted average metrics:\\n\")\n",
    "\n",
    "precision_per_class = precision_score(y_true, y_pred, average=None)\n",
    "print(f\"Precision for each class: {[f'{r:.2f}' for r in precision_per_class]}\")\n",
    "weighted_avg_precision = np.sum(precision_per_class * proportions)\n",
    "print(f\"Weighted Average Precision {weighted_avg_precision:.2f}\")\n",
    "recall_per_class = recall_score(y_true, y_pred, average=None)\n",
    "print(f\"Recall for each class: {[f'{r:.2f}' for r in recall_per_class]}\")\n",
    "weighted_avg_recall = np.sum(recall_per_class * proportions)\n",
    "print(f\"Weighted Average Recall: {weighted_avg_recall:.2f}\")\n",
    "# Calculate F1 score for each class\n",
    "f1_per_class = f1_score(y_true, y_pred, average=None)\n",
    "print(f\"F1 Score for each class: {[f'{f:.2f}' for f in f1_per_class]}\")\n",
    "# Calculate weighted average F1 score\n",
    "weighted_avg_f1 = np.sum(f1_per_class * proportions)\n",
    "print(f\"Weighted Average F1 Score: {weighted_avg_f1:.2f}\")"
   ]
  },
  {
   "cell_type": "code",
   "execution_count": 57,
   "id": "1860d02b-8245-4003-b750-624a629bce8a",
   "metadata": {},
   "outputs": [
    {
     "name": "stdout",
     "output_type": "stream",
     "text": [
      "\n",
      "Weighted average metrics:\n",
      "\n",
      "Precision for each class: ['0.81', '0.89']\n",
      "Weighted Average Precision 0.86\n",
      "Recall for each class: ['0.84', '0.87']\n",
      "Weighted Average Recall: 0.86\n",
      "F1 Score for each class: ['0.82', '0.88']\n",
      "Weighted Average F1 Score: 0.86\n",
      "N = 952\n",
      "%agreement = 0.7597765363128491\n"
     ]
    }
   ],
   "source": [
    "df_agree = df[(df['llama31'] == df['llama3']) & (df['llama31'] == df['gemma']) & (df['llama3'] == df['gemma'])]\n",
    "y_true = df_agree.code.astype(int)\n",
    "y_pred = df_agree.gemma.astype(int)\n",
    "\n",
    "# calculate the precision and recall scores\n",
    "precision = precision_score(y_true, y_pred, pos_label=0)\n",
    "recall = recall_score(y_true, y_pred, pos_label=0)\n",
    "accuracy = accuracy_score(y_true, y_pred)\n",
    "f1 = f1_score(y_true, y_pred, pos_label=0)\n",
    "cm = confusion_matrix(y_true, y_pred)\n",
    "\n",
    "\n",
    "conf_matrix = confusion_matrix(y_true, y_pred)\n",
    "# Extract true positives for each class\n",
    "true_positives = np.diag(conf_matrix)\n",
    "\n",
    "# Calculate precision for each class\n",
    "precision_per_class = precision_score(y_true, y_pred, average=None)\n",
    "\n",
    "# Calculate proportion of true positives for each class\n",
    "total_true_positives = np.sum(true_positives)\n",
    "proportions = true_positives / total_true_positives\n",
    "\n",
    "weighted_avg_precision = np.sum(precision_per_class * proportions)\n",
    "\n",
    "    \n",
    "print(\"\\nWeighted average metrics:\\n\")\n",
    "\n",
    "precision_per_class = precision_score(y_true, y_pred, average=None)\n",
    "print(f\"Precision for each class: {[f'{r:.2f}' for r in precision_per_class]}\")\n",
    "weighted_avg_precision = np.sum(precision_per_class * proportions)\n",
    "print(f\"Weighted Average Precision {weighted_avg_precision:.2f}\")\n",
    "recall_per_class = recall_score(y_true, y_pred, average=None)\n",
    "print(f\"Recall for each class: {[f'{r:.2f}' for r in recall_per_class]}\")\n",
    "weighted_avg_recall = np.sum(recall_per_class * proportions)\n",
    "print(f\"Weighted Average Recall: {weighted_avg_recall:.2f}\")\n",
    "# Calculate F1 score for each class\n",
    "f1_per_class = f1_score(y_true, y_pred, average=None)\n",
    "print(f\"F1 Score for each class: {[f'{f:.2f}' for f in f1_per_class]}\")\n",
    "# Calculate weighted average F1 score\n",
    "weighted_avg_f1 = np.sum(f1_per_class * proportions)\n",
    "print(f\"Weighted Average F1 Score: {weighted_avg_f1:.2f}\")\n",
    "\n",
    "print(f\"N = {len(df_agree)}\")\n",
    "print(f\"%agreement = {len(df_agree) / len(df)}\")"
   ]
  }
 ],
 "metadata": {
  "kernelspec": {
   "display_name": "Python 3 (ipykernel)",
   "language": "python",
   "name": "python3"
  },
  "language_info": {
   "codemirror_mode": {
    "name": "ipython",
    "version": 3
   },
   "file_extension": ".py",
   "mimetype": "text/x-python",
   "name": "python",
   "nbconvert_exporter": "python",
   "pygments_lexer": "ipython3",
   "version": "3.9.21"
  }
 },
 "nbformat": 4,
 "nbformat_minor": 5
}
