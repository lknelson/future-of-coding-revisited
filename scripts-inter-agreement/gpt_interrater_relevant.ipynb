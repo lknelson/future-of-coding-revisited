{
 "cells": [
  {
   "cell_type": "code",
   "execution_count": 1,
   "id": "eca8f10d-a6b5-4352-85eb-c37538829c26",
   "metadata": {},
   "outputs": [],
   "source": [
    "import pandas\n",
    "from sklearn.metrics import cohen_kappa_score\n",
    "from  nltk.metrics import agreement\n",
    "import numpy as np\n",
    "from sklearn.metrics import precision_score, recall_score, confusion_matrix, accuracy_score, f1_score"
   ]
  },
  {
   "cell_type": "code",
   "execution_count": 3,
   "id": "76743781-6b22-4c8d-b57c-ccabc1f2c9c6",
   "metadata": {},
   "outputs": [],
   "source": [
    "df1 = pandas.read_csv('../data/inequality_dataset_GPT_NoDefinition.csv')\n",
    "df2 = pandas.read_csv('../data/inequality_dataset_GPT_ResearcherDefinition.csv')\n",
    "df3 = pandas.read_csv('../data/inequality_dataset_GPT_GPTDefinition.csv')"
   ]
  },
  {
   "cell_type": "code",
   "execution_count": 9,
   "id": "1aa91309-d62d-422a-8d8f-21e66d7050b8",
   "metadata": {},
   "outputs": [
    {
     "data": {
      "text/html": [
       "<div>\n",
       "<style scoped>\n",
       "    .dataframe tbody tr th:only-of-type {\n",
       "        vertical-align: middle;\n",
       "    }\n",
       "\n",
       "    .dataframe tbody tr th {\n",
       "        vertical-align: top;\n",
       "    }\n",
       "\n",
       "    .dataframe thead th {\n",
       "        text-align: right;\n",
       "    }\n",
       "</style>\n",
       "<table border=\"1\" class=\"dataframe\">\n",
       "  <thead>\n",
       "    <tr style=\"text-align: right;\">\n",
       "      <th></th>\n",
       "      <th>nodef</th>\n",
       "      <th>redef</th>\n",
       "      <th>llmdef</th>\n",
       "      <th>code</th>\n",
       "    </tr>\n",
       "  </thead>\n",
       "  <tbody>\n",
       "    <tr>\n",
       "      <th>0</th>\n",
       "      <td>1</td>\n",
       "      <td>1</td>\n",
       "      <td>1</td>\n",
       "      <td>0</td>\n",
       "    </tr>\n",
       "    <tr>\n",
       "      <th>1</th>\n",
       "      <td>1</td>\n",
       "      <td>1</td>\n",
       "      <td>1</td>\n",
       "      <td>1</td>\n",
       "    </tr>\n",
       "    <tr>\n",
       "      <th>2</th>\n",
       "      <td>1</td>\n",
       "      <td>1</td>\n",
       "      <td>1</td>\n",
       "      <td>1</td>\n",
       "    </tr>\n",
       "    <tr>\n",
       "      <th>3</th>\n",
       "      <td>0</td>\n",
       "      <td>0</td>\n",
       "      <td>0</td>\n",
       "      <td>0</td>\n",
       "    </tr>\n",
       "    <tr>\n",
       "      <th>4</th>\n",
       "      <td>0</td>\n",
       "      <td>0</td>\n",
       "      <td>0</td>\n",
       "      <td>0</td>\n",
       "    </tr>\n",
       "  </tbody>\n",
       "</table>\n",
       "</div>"
      ],
      "text/plain": [
       "   nodef  redef  llmdef  code\n",
       "0      1      1       1     0\n",
       "1      1      1       1     1\n",
       "2      1      1       1     1\n",
       "3      0      0       0     0\n",
       "4      0      0       0     0"
      ]
     },
     "execution_count": 9,
     "metadata": {},
     "output_type": "execute_result"
    }
   ],
   "source": [
    "df = pandas.DataFrame()\n",
    "df['nodef'] = df1['gen_code']\n",
    "df['redef'] = df2['gen_code']\n",
    "df['llmdef'] = df3['gen_code']\n",
    "\n",
    "labels = [int(df1['code'][i] != 5) for i in range(len(df1))]\n",
    "\n",
    "df['code'] = labels\n",
    "\n",
    "df.head()"
   ]
  },
  {
   "cell_type": "code",
   "execution_count": 10,
   "id": "965676fc-ae7e-46a4-b0fb-60f115ef6f7e",
   "metadata": {
    "scrolled": true
   },
   "outputs": [
    {
     "data": {
      "text/plain": [
       "('a1', 0, 1)"
      ]
     },
     "execution_count": 10,
     "metadata": {},
     "output_type": "execute_result"
    }
   ],
   "source": [
    "data = []\n",
    "for idx, row in df.iterrows():\n",
    "    data.append((\"a1\", idx, row[\"nodef\"]))\n",
    "    data.append((\"a2\", idx, row[\"redef\"]))\n",
    "    data.append((\"a3\", idx, row[\"llmdef\"]))\n",
    "data[0]"
   ]
  },
  {
   "cell_type": "code",
   "execution_count": 11,
   "id": "b192d890-5e09-4d7e-9541-95b4d27c0afe",
   "metadata": {},
   "outputs": [],
   "source": [
    "atask = agreement.AnnotationTask(data=data)"
   ]
  },
  {
   "cell_type": "code",
   "execution_count": 12,
   "id": "0f122f1a-72b7-42cb-b4f2-9c798c08349b",
   "metadata": {},
   "outputs": [
    {
     "name": "stdout",
     "output_type": "stream",
     "text": [
      "Fleiss's Kappa: 0.6830947579948012\n"
     ]
    }
   ],
   "source": [
    "print(\"Fleiss's Kappa:\", atask.multi_kappa())"
   ]
  },
  {
   "cell_type": "markdown",
   "id": "f1c48423-4880-4b7d-a9f9-cc7dcb387c5e",
   "metadata": {},
   "source": [
    "## Metrics for ensemble method"
   ]
  },
  {
   "cell_type": "code",
   "execution_count": 13,
   "id": "edbaedba-59fe-4ad6-8167-ad4952939408",
   "metadata": {},
   "outputs": [],
   "source": [
    "ensemble = []\n",
    "\n",
    "for idx, row in df[['nodef', 'redef', 'llmdef']].iterrows():\n",
    "    #print(list(row))\n",
    "    ensemble.append((max(set(list(row)), key=list(row).count)))\n",
    "\n",
    "df['ensemble'] = ensemble"
   ]
  },
  {
   "cell_type": "code",
   "execution_count": 14,
   "id": "a1381b71-aee0-4bf0-8934-fdc26d71ce49",
   "metadata": {},
   "outputs": [
    {
     "name": "stdout",
     "output_type": "stream",
     "text": [
      "\n",
      "Weighted average metrics:\n",
      "\n",
      "Precision for each class: ['0.82', '0.85']\n",
      "Weighted Average Precision 0.84\n",
      "Recall for each class: ['0.72', '0.91']\n",
      "Weighted Average Recall: 0.85\n",
      "F1 Score for each class: ['0.77', '0.88']\n",
      "Weighted Average F1 Score: 0.84\n"
     ]
    }
   ],
   "source": [
    "y_true = df.code\n",
    "y_pred = df.ensemble\n",
    "\n",
    "# precision/recall of the 0 categories\n",
    "## flipping the labels -> flipping precision/ recall -> high recall\n",
    "# calculate the precision and recall scores\n",
    "precision = precision_score(y_true, y_pred, pos_label=0)\n",
    "recall = recall_score(y_true, y_pred, pos_label=0)\n",
    "accuracy = accuracy_score(y_true, y_pred)\n",
    "f1 = f1_score(y_true, y_pred, pos_label=0)\n",
    "cm = confusion_matrix(y_true, y_pred)\n",
    "\n",
    "\n",
    "conf_matrix = confusion_matrix(y_true, y_pred)\n",
    "# Extract true positives for each class\n",
    "true_positives = np.diag(conf_matrix)\n",
    "\n",
    "# Calculate precision for each class\n",
    "precision_per_class = precision_score(y_true, y_pred, average=None)\n",
    "\n",
    "# Calculate proportion of true positives for each class\n",
    "total_true_positives = np.sum(true_positives)\n",
    "proportions = true_positives / total_true_positives\n",
    "\n",
    "weighted_avg_precision = np.sum(precision_per_class * proportions)\n",
    "\n",
    "    \n",
    "print(\"\\nWeighted average metrics:\\n\")\n",
    "\n",
    "precision_per_class = precision_score(y_true, y_pred, average=None)\n",
    "print(f\"Precision for each class: {[f'{r:.2f}' for r in precision_per_class]}\")\n",
    "weighted_avg_precision = np.sum(precision_per_class * proportions)\n",
    "print(f\"Weighted Average Precision {weighted_avg_precision:.2f}\")\n",
    "recall_per_class = recall_score(y_true, y_pred, average=None)\n",
    "print(f\"Recall for each class: {[f'{r:.2f}' for r in recall_per_class]}\")\n",
    "weighted_avg_recall = np.sum(recall_per_class * proportions)\n",
    "print(f\"Weighted Average Recall: {weighted_avg_recall:.2f}\")\n",
    "# Calculate F1 score for each class\n",
    "f1_per_class = f1_score(y_true, y_pred, average=None)\n",
    "print(f\"F1 Score for each class: {[f'{f:.2f}' for f in f1_per_class]}\")\n",
    "# Calculate weighted average F1 score\n",
    "weighted_avg_f1 = np.sum(f1_per_class * proportions)\n",
    "print(f\"Weighted Average F1 Score: {weighted_avg_f1:.2f}\")"
   ]
  },
  {
   "cell_type": "code",
   "execution_count": 15,
   "id": "2cb1dd09-b953-46e3-aa73-b35bda33c202",
   "metadata": {},
   "outputs": [
    {
     "name": "stdout",
     "output_type": "stream",
     "text": [
      "\n",
      "Weighted average metrics:\n",
      "\n",
      "Precision for each class: ['0.93', '0.88']\n",
      "Weighted Average Precision 0.89\n",
      "Recall for each class: ['0.72', '0.97']\n",
      "Weighted Average Recall: 0.91\n",
      "F1 Score for each class: ['0.81', '0.92']\n",
      "Weighted Average F1 Score: 0.89\n",
      "N = 997\n",
      "%agreement = 0.7956903431763767\n"
     ]
    }
   ],
   "source": [
    "df_agree = df[(df['nodef'] == df['redef']) & (df['nodef'] == df['llmdef'])]\n",
    "y_true = df_agree.code.astype(int)\n",
    "y_pred = df_agree.nodef.astype(int)\n",
    "\n",
    "# precision/recall of the 0 categories\n",
    "## flipping the labels -> flipping precision/ recall -> high recall\n",
    "# calculate the precision and recall scores\n",
    "precision = precision_score(y_true, y_pred, pos_label=0)\n",
    "recall = recall_score(y_true, y_pred, pos_label=0)\n",
    "accuracy = accuracy_score(y_true, y_pred)\n",
    "f1 = f1_score(y_true, y_pred, pos_label=0)\n",
    "cm = confusion_matrix(y_true, y_pred)\n",
    "\n",
    "\n",
    "conf_matrix = confusion_matrix(y_true, y_pred)\n",
    "# Extract true positives for each class\n",
    "true_positives = np.diag(conf_matrix)\n",
    "\n",
    "# Calculate precision for each class\n",
    "precision_per_class = precision_score(y_true, y_pred, average=None)\n",
    "\n",
    "# Calculate proportion of true positives for each class\n",
    "total_true_positives = np.sum(true_positives)\n",
    "proportions = true_positives / total_true_positives\n",
    "\n",
    "weighted_avg_precision = np.sum(precision_per_class * proportions)\n",
    "\n",
    "    \n",
    "print(\"\\nWeighted average metrics:\\n\")\n",
    "\n",
    "precision_per_class = precision_score(y_true, y_pred, average=None)\n",
    "print(f\"Precision for each class: {[f'{r:.2f}' for r in precision_per_class]}\")\n",
    "weighted_avg_precision = np.sum(precision_per_class * proportions)\n",
    "print(f\"Weighted Average Precision {weighted_avg_precision:.2f}\")\n",
    "recall_per_class = recall_score(y_true, y_pred, average=None)\n",
    "print(f\"Recall for each class: {[f'{r:.2f}' for r in recall_per_class]}\")\n",
    "weighted_avg_recall = np.sum(recall_per_class * proportions)\n",
    "print(f\"Weighted Average Recall: {weighted_avg_recall:.2f}\")\n",
    "# Calculate F1 score for each class\n",
    "f1_per_class = f1_score(y_true, y_pred, average=None)\n",
    "print(f\"F1 Score for each class: {[f'{f:.2f}' for f in f1_per_class]}\")\n",
    "# Calculate weighted average F1 score\n",
    "weighted_avg_f1 = np.sum(f1_per_class * proportions)\n",
    "print(f\"Weighted Average F1 Score: {weighted_avg_f1:.2f}\")\n",
    "\n",
    "print(f\"N = {len(df_agree)}\")\n",
    "print(f\"%agreement = {len(df_agree) / len(df)}\")"
   ]
  }
 ],
 "metadata": {
  "kernelspec": {
   "display_name": "Python 3 (ipykernel)",
   "language": "python",
   "name": "python3"
  },
  "language_info": {
   "codemirror_mode": {
    "name": "ipython",
    "version": 3
   },
   "file_extension": ".py",
   "mimetype": "text/x-python",
   "name": "python",
   "nbconvert_exporter": "python",
   "pygments_lexer": "ipython3",
   "version": "3.9.21"
  }
 },
 "nbformat": 4,
 "nbformat_minor": 5
}
