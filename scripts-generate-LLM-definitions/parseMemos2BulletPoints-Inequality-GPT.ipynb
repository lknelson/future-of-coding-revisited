{
 "cells": [
  {
   "cell_type": "markdown",
   "id": "4b4e2b2d",
   "metadata": {},
   "source": [
    "## July, 2024: using GPT-4 and load all contexts - following 2 step process\n",
    "### Parse two txt files, get information on irrelevant categories and relevant categories in bullet point forms\n",
    "\n",
    "- loop through the documents, and trucate into different groups falling within the 8000 context length\n",
    "- get all the bullets out, and consolidate to one definition\n",
    "\n",
    "### Parse two txt files, get information on irrelevant categories and relevant categories in bullet point forms\n",
    "- Step 1: After we get the txt forms of the documentation, we parse the irrelevant and relevant categories in the bullet point form\n",
    "- Step 2: manually remove the repeated bullet point because two documents contain redundant information from relevant_irrelevant.txt and relevant_irrelevant_2.txt. Remove bullet points that are repeated, and save the resulting combined document into relevant_irrelevant_combined.txt\n",
    "- During step 2: spell out what relinequality, relchanges, and releconomy are. The prasing function picks up those terms that dont' translate from one context to another. "
   ]
  },
  {
   "cell_type": "code",
   "execution_count": 3,
   "id": "9d79cc79",
   "metadata": {},
   "outputs": [],
   "source": [
    "import os\n",
    "import pdb\n",
    "import time\n",
    "import openai\n",
    "import requests\n",
    "import pandas as pd \n",
    "import warnings\n",
    "warnings.filterwarnings('ignore')"
   ]
  },
  {
   "cell_type": "code",
   "execution_count": 4,
   "id": "4d6985dc",
   "metadata": {},
   "outputs": [],
   "source": [
    "# change this key frequently\n",
    "OPENAI_API_KEY = \"\""
   ]
  },
  {
   "cell_type": "code",
   "execution_count": 5,
   "id": "62a6e0f6",
   "metadata": {},
   "outputs": [],
   "source": [
    "openai.api_key = OPENAI_API_KEY"
   ]
  },
  {
   "cell_type": "code",
   "execution_count": 6,
   "id": "198e791e",
   "metadata": {},
   "outputs": [
    {
     "name": "stdout",
     "output_type": "stream",
     "text": [
      "32766\n"
     ]
    }
   ],
   "source": [
    "coding_memo_1_dir_txt = '../irrelevant_baseline/coding_memo_main.txt'\n",
    "\n",
    "with open(coding_memo_1_dir_txt, 'r') as file:\n",
    "    memo_1 = file.read()\n",
    "\n",
    "print(len(memo_1)) #32,766 character "
   ]
  },
  {
   "cell_type": "code",
   "execution_count": 7,
   "id": "2c90ae98",
   "metadata": {},
   "outputs": [
    {
     "data": {
      "text/plain": [
       "10922.0"
      ]
     },
     "execution_count": 7,
     "metadata": {},
     "output_type": "execute_result"
    }
   ],
   "source": [
    "# approximate number of tokens -> parse everything to GPT4 fine \n",
    "32766/3 "
   ]
  },
  {
   "cell_type": "code",
   "execution_count": 8,
   "id": "9417d455",
   "metadata": {},
   "outputs": [],
   "source": [
    "prompt = \"\"\" parse the given document and create bullet points of what definition of inequality articles is\n",
    "\"\"\""
   ]
  },
  {
   "cell_type": "code",
   "execution_count": 9,
   "id": "ebd1568d",
   "metadata": {},
   "outputs": [],
   "source": [
    "def parse_memo(definitions, prompt, max_tokens=1000, role_user=\"user\"):\n",
    "\n",
    "    completion = openai.chat.completions.create(model=\"gpt-4\",\n",
    "                                              temperature=0, # make sure that all answers are the same, \n",
    "                                              max_tokens=max_tokens, # 8000 is the max token length for GPT4\n",
    "                                              messages=[{\"role\": \"system\", \"content\": \"You are a helpful assistant.\"},\n",
    "                                                        {\"role\": role_user, \"content\": f'Read the following document{definitions}'},\n",
    "                                                        {\"role\": role_user, \"content\": prompt}]) \n",
    "    return completion.choices[0].message"
   ]
  },
  {
   "cell_type": "code",
   "execution_count": 10,
   "id": "3b982ba1",
   "metadata": {},
   "outputs": [],
   "source": [
    "output = parse_memo(memo_1, prompt, max_tokens=1000)"
   ]
  },
  {
   "cell_type": "code",
   "execution_count": 11,
   "id": "a2279819",
   "metadata": {},
   "outputs": [
    {
     "name": "stdout",
     "output_type": "stream",
     "text": [
      "- Inequality articles are those that explicitly mention economic inequality or gaps between different economic or social class groups.\n",
      "- They often include references to changes in economic groups, such as rising or falling pay, but this is not a requirement.\n",
      "- They must mention economic/social class groups, which are defined by financial status including wages, non-cash compensation, investment income, wealth and assets, and income from government or private sources.\n",
      "- The articles may refer to broad economic/social class groups, which are defined roughly as quintiles, quarters or thirds of the distribution, such as top, middle, bottom, or equivalents in terms of occupations or beneficiaries.\n",
      "- They may also refer to hierarchically related economic/social class groups, which are two or more broad groups that are in a hierarchical/vertical relation to each other.\n",
      "- The goal of these articles is to identify vertical groups being pitted against each other, usually in a zero-sum manner, rather than horizontal inequalities.\n",
      "- Inequality articles can be categorized into four primary and mutually exclusive categories: irrelevant, relinequality (relevant on inequality), relchanges (relevant on pay/income/wealth/etc.), and releconomy (relevant on the economy).\n",
      "- The hierarchy or priority of categorization among relevant articles is: relinequality, relchanges, releconomy.\n",
      "- Any single mention of text that meets the criteria for a category qualifies an article as within that category.\n"
     ]
    }
   ],
   "source": [
    "print(output.content)"
   ]
  },
  {
   "cell_type": "code",
   "execution_count": 15,
   "id": "a98de75d",
   "metadata": {},
   "outputs": [],
   "source": [
    "inequality_definition = output.content"
   ]
  },
  {
   "cell_type": "code",
   "execution_count": 16,
   "id": "1623aeec",
   "metadata": {},
   "outputs": [],
   "source": [
    "inequality_definition_path = 'inequality_gpt.txt'\n",
    "with open(inequality_definition_path , 'w') as file:\n",
    "    file.write(inequality_definition)"
   ]
  },
  {
   "cell_type": "markdown",
   "id": "c79b1e17",
   "metadata": {},
   "source": [
    "### bullet points from memo2  "
   ]
  },
  {
   "cell_type": "code",
   "execution_count": 17,
   "id": "ee31dbd8",
   "metadata": {},
   "outputs": [
    {
     "name": "stdout",
     "output_type": "stream",
     "text": [
      "46500\n"
     ]
    }
   ],
   "source": [
    "coding_memo_2_dir_txt = '../irrelevant_baseline/coding_memo_extra.txt'\n",
    "\n",
    "with open(coding_memo_2_dir_txt, 'r') as file:\n",
    "    memo_2 = file.read()\n",
    "\n",
    "print(len(memo_2)) #32,766 character "
   ]
  },
  {
   "cell_type": "code",
   "execution_count": 18,
   "id": "d45e7a7a",
   "metadata": {},
   "outputs": [],
   "source": [
    "output_2 = parse_memo(memo_2[:8000*3], prompt, max_tokens=1000)"
   ]
  },
  {
   "cell_type": "code",
   "execution_count": 19,
   "id": "4e2913b5",
   "metadata": {},
   "outputs": [
    {
     "name": "stdout",
     "output_type": "stream",
     "text": [
      "- Inequality articles are those that discuss the relative differences in income, wealth, wages, compensation, benefits, etc. between two or more hierarchically ordered groups. This is coded as \"relinequality\".\n",
      "- If an article mentions that tax cuts are proportionally greater for top than bottom or vice versa, affecting inequality, then it would be coded as \"relinequality\".\n",
      "- If an article is mainly about unemployment or a growing or contracting economy but mentions earnings/income with respect to any group (even average American), then it should be coded as \"relchanges\" and not \"relinequality\".\n",
      "- Articles about the stock market are relevant in that they discuss income (unearned income) primarily of those at the top end of the distribution. These articles would most likely be coded as \"relchanges\" but could also be \"relinequality\" in some instances if other hierarchically related groups are mentioned along with their incomes/earnings/wealth/etc.\n",
      "- Articles that are overwhelmingly about the economy/jobs/growth and not wages/income or inequality are categorized as \"releconomy\".\n",
      "- Articles in which multiple groups are mentioned but not compared explicitly are coded as implicit and given a code of 0. Explicit language must be present to justify a code of explicit inequality.\n",
      "- Articles that mention low skill and high skill workers, and even say that the low skilled are doing worse than the high skilled, are not explicit enough language to automatically categorize in the explicit inequality category. The article must explicitly mention wages/compensation/benefits/etc with respect to these jobs, and there must be explicit language that one group is benefitting/losing more than the other(s).\n",
      "- Tax changes that signal regressive or progressive changes if the regressive or progressive nature of the change is not stated directly could be considered either explicit or implicit.\n"
     ]
    }
   ],
   "source": [
    "print(output_2.content)"
   ]
  },
  {
   "cell_type": "code",
   "execution_count": 20,
   "id": "05384adb",
   "metadata": {},
   "outputs": [],
   "source": [
    "inequality_definition_path = 'inequality_2_gpt.txt'\n",
    "with open(inequality_definition_path, 'w') as file:\n",
    "    file.write(output_2.content)"
   ]
  },
  {
   "cell_type": "markdown",
   "id": "9d1e9279",
   "metadata": {},
   "source": [
    "# from memo_2, figure out what the research topic is\n",
    "- this is an extra exercise to lend insights into how to create prompt for relevant vs. irrelevant "
   ]
  },
  {
   "cell_type": "code",
   "execution_count": 21,
   "id": "2fbc1ca3",
   "metadata": {},
   "outputs": [],
   "source": [
    "prompt2 = 'what is the research topic?'"
   ]
  },
  {
   "cell_type": "code",
   "execution_count": 22,
   "id": "94056989",
   "metadata": {},
   "outputs": [],
   "source": [
    "output_2 = parse_memo(memo_2[:8000*3], prompt2, max_tokens=1000)"
   ]
  },
  {
   "cell_type": "code",
   "execution_count": 23,
   "id": "172cec67",
   "metadata": {},
   "outputs": [
    {
     "data": {
      "text/plain": [
       "'The research topic appears to be about coding and analyzing articles or documents related to income inequality, changes in income, and the state of the economy. The document provides detailed instructions on how to categorize and code different aspects of these topics, such as mentions of different income groups, changes in income, and policies that affect income distribution.'"
      ]
     },
     "execution_count": 23,
     "metadata": {},
     "output_type": "execute_result"
    }
   ],
   "source": [
    "output_2.content"
   ]
  }
 ],
 "metadata": {
  "kernelspec": {
   "display_name": "Python 3 (ipykernel)",
   "language": "python",
   "name": "python3"
  },
  "language_info": {
   "codemirror_mode": {
    "name": "ipython",
    "version": 3
   },
   "file_extension": ".py",
   "mimetype": "text/x-python",
   "name": "python",
   "nbconvert_exporter": "python",
   "pygments_lexer": "ipython3",
   "version": "3.9.21"
  }
 },
 "nbformat": 4,
 "nbformat_minor": 5
}
