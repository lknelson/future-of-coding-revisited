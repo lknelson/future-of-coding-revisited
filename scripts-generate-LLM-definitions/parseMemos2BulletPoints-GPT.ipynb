{
 "cells": [
  {
   "cell_type": "markdown",
   "id": "4b4e2b2d",
   "metadata": {},
   "source": [
    "### Parse two txt files, get information on irrelevant categories and relevant categories in bullet point forms\n",
    "- Step 1: After we get the txt forms of the documentation, we parse the irrelevant and relevant categories in the bullet point form\n",
    "- Step 2: manually remove the repeated bullet point because two documents contain redundant information from relevant_irrelevant.txt and relevant_irrelevant_2.txt. Remove bullet points that are repeated, and save the resulting combined document into relevant_irrelevant_combined.txt\n",
    "- During step 2: spell out what relinequality, relchanges, and releconomy are. The prasing function picks up those terms that dont' translate from one context to another. "
   ]
  },
  {
   "cell_type": "code",
   "execution_count": 1,
   "id": "9d79cc79",
   "metadata": {},
   "outputs": [],
   "source": [
    "import os\n",
    "import pdb\n",
    "import time\n",
    "import openai\n",
    "import requests\n",
    "import pandas as pd \n",
    "import warnings\n",
    "warnings.filterwarnings('ignore')"
   ]
  },
  {
   "cell_type": "code",
   "execution_count": 2,
   "id": "4d6985dc",
   "metadata": {},
   "outputs": [],
   "source": [
    "# change this key frequently\n",
    "OPENAI_API_KEY = \"\""
   ]
  },
  {
   "cell_type": "code",
   "execution_count": 3,
   "id": "62a6e0f6",
   "metadata": {},
   "outputs": [],
   "source": [
    "openai.api_key = OPENAI_API_KEY"
   ]
  },
  {
   "cell_type": "code",
   "execution_count": 4,
   "id": "198e791e",
   "metadata": {},
   "outputs": [
    {
     "name": "stdout",
     "output_type": "stream",
     "text": [
      "32766\n"
     ]
    }
   ],
   "source": [
    "coding_memo_1_dir_txt = 'coding_memo_main.txt'\n",
    "\n",
    "with open(coding_memo_1_dir_txt, 'r') as file:\n",
    "    memo_1 = file.read()\n",
    "\n",
    "print(len(memo_1)) #32,766 character "
   ]
  },
  {
   "cell_type": "code",
   "execution_count": 6,
   "id": "9417d455",
   "metadata": {},
   "outputs": [],
   "source": [
    "prompt = \"\"\" parse the given document and create bullet points of what definition of irrelevant articles is\n",
    "\"\"\""
   ]
  },
  {
   "cell_type": "code",
   "execution_count": 7,
   "id": "ebd1568d",
   "metadata": {},
   "outputs": [],
   "source": [
    "def parse_memo(definitions, prompt, max_tokens=1000, role_user=\"user\"):\n",
    "\n",
    "    completion = openai.chat.completions.create(model=\"gpt-4\",\n",
    "                                              temperature=0, # make sure that all answers are the same, \n",
    "                                              max_tokens=max_tokens, # 8000 is the max token length for GPT4\n",
    "                                              messages=[{\"role\": \"system\", \"content\": \"You are a helpful assistant.\"},\n",
    "                                                        {\"role\": role_user, \"content\": f'Read the following document{definitions}'},\n",
    "                                                        {\"role\": role_user, \"content\": prompt}]) \n",
    "    return completion.choices[0].message"
   ]
  },
  {
   "cell_type": "code",
   "execution_count": 8,
   "id": "3b982ba1",
   "metadata": {},
   "outputs": [],
   "source": [
    "output = parse_memo(memo_1, prompt, max_tokens=1000)"
   ]
  },
  {
   "cell_type": "code",
   "execution_count": 9,
   "id": "a2279819",
   "metadata": {},
   "outputs": [
    {
     "name": "stdout",
     "output_type": "stream",
     "text": [
      "- Articles that are not focused on the U.S.\n",
      "- Articles that discuss racial or gender inequality or gay rights in the U.S.\n",
      "- Articles where individuals' names are part of a subject term (e.g., Marc Rich).\n",
      "- References to popular culture that include part of a subject term (e.g., a movie named “Big Business”).\n",
      "- Personal affairs about a single individual that do not comment on broader conditions.\n",
      "- Articles about noneconomic elites (e.g., in art or religion or politics), where high economic status is neither implicit nor explicit.\n",
      "- Social class as a predictor of non-economic phenomenon (e.g., health, education, drug use, social mobility, conspicuous and other kinds of consumption).\n",
      "- Stories on famous individuals or criminal cases or cases of corporate or union corruption that are treated as unique situations and do not reflect on broader conditions.\n",
      "- Articles that mainly discuss policy or political debates and particular politicians, but do not contain qualifying text on relevant inequality, pay/income/wealth, or economy.\n"
     ]
    }
   ],
   "source": [
    "print(output.content)"
   ]
  },
  {
   "cell_type": "code",
   "execution_count": 11,
   "id": "a98de75d",
   "metadata": {},
   "outputs": [],
   "source": [
    "relevant_definition = output.content"
   ]
  },
  {
   "cell_type": "code",
   "execution_count": 12,
   "id": "1623aeec",
   "metadata": {},
   "outputs": [],
   "source": [
    "relevant_definition_path = 'relevant_irrelevant_gpt.txt'\n",
    "with open(relevant_definition_path, 'w') as file:\n",
    "    file.write(relevant_definition)"
   ]
  },
  {
   "cell_type": "markdown",
   "id": "c79b1e17",
   "metadata": {},
   "source": [
    "### bullet points from memo2  "
   ]
  },
  {
   "cell_type": "code",
   "execution_count": 13,
   "id": "ee31dbd8",
   "metadata": {},
   "outputs": [
    {
     "name": "stdout",
     "output_type": "stream",
     "text": [
      "46500\n"
     ]
    }
   ],
   "source": [
    "coding_memo_2_dir_txt = 'coding_memo_extra.txt'\n",
    "\n",
    "with open(coding_memo_2_dir_txt, 'r') as file:\n",
    "    memo_2 = file.read()\n",
    "\n",
    "print(len(memo_2)) #32,766 character "
   ]
  },
  {
   "cell_type": "code",
   "execution_count": 14,
   "id": "d45e7a7a",
   "metadata": {},
   "outputs": [],
   "source": [
    "output_2 = parse_memo(memo_2[:8000*3], prompt, max_tokens=1000)"
   ]
  },
  {
   "cell_type": "code",
   "execution_count": 15,
   "id": "4e2913b5",
   "metadata": {},
   "outputs": [
    {
     "name": "stdout",
     "output_type": "stream",
     "text": [
      "- Irrelevant articles include all stories that are not focused on the U.S. or are about racial or gender inequality in the U.S.\n",
      "- Most articles on affirmative action are considered irrelevant.\n",
      "- Articles on racial/gender inequality and income inequality may be relevant.\n",
      "- Stories on famous individuals, criminal cases, or cases of corporate or union corruption that are unique and don’t reflect broader conditions are coded as irrelevant.\n",
      "- Articles that have a single mention of something relevant but are entirely on a different topic are also considered irrelevant.\n",
      "- Articles that fall under the category of conservative ideology because “conservatism” is a subject keyword are deemed irrelevant.\n",
      "- Articles that generally use “Labor” as a subject keyword in conjunction with something else, such as Labor Education or Labor Mobility, are considered relevant.\n"
     ]
    }
   ],
   "source": [
    "print(output_2.content)"
   ]
  },
  {
   "cell_type": "code",
   "execution_count": 16,
   "id": "46553b67",
   "metadata": {},
   "outputs": [],
   "source": [
    "# parsing results from summer 2023 \n",
    "# print(output_2[\"content\"])\n",
    "# - Irrelevant articles include all stories that are not focused on the U.S. or are about racial or gender inequality in the U.S.\n",
    "# - Most articles on affirmative action are considered irrelevant.\n",
    "# - If an article is about racial/gender inequality and income inequality, it may be relevant.\n",
    "# - Stories on famous individuals, criminal cases, or cases of corporate or union corruption that are unique and don’t reflect broader conditions are coded as irrelevant.\n",
    "# - Articles that have a single mention of something relevant but are entirely on a different topic are also considered irrelevant.\n",
    "# - Articles in the irrelevant category were generally coded as such even if they had one mention of something that fell into one of the three other main categories (relinequality, relchanges, releconomy).\n",
    "# - Topics that fall into this category include conservative ideology because “conservatism” is a subject keyword."
   ]
  },
  {
   "cell_type": "code",
   "execution_count": 42,
   "id": "05384adb",
   "metadata": {},
   "outputs": [],
   "source": [
    "relevant_definition_path = 'relevant_irrelevant_2_gpt.txt'\n",
    "with open(relevant_definition_path, 'w') as file:\n",
    "    file.write(output_2.content)"
   ]
  },
  {
   "cell_type": "markdown",
   "id": "9d1e9279",
   "metadata": {},
   "source": [
    "# from memo_2, figure out what the research topic is\n",
    "- this is an extra exercise to lend insights into how to create prompt for relevant vs. irrelevant "
   ]
  },
  {
   "cell_type": "code",
   "execution_count": 43,
   "id": "2fbc1ca3",
   "metadata": {},
   "outputs": [],
   "source": [
    "prompt2 = 'what is the research topic?'"
   ]
  },
  {
   "cell_type": "code",
   "execution_count": 44,
   "id": "94056989",
   "metadata": {},
   "outputs": [],
   "source": [
    "output_2 = parse_memo(memo_2[:8000*3], prompt2, max_tokens=1000)"
   ]
  },
  {
   "cell_type": "code",
   "execution_count": 45,
   "id": "172cec67",
   "metadata": {},
   "outputs": [
    {
     "data": {
      "text/plain": [
       "'The research topic appears to be about coding and categorizing articles based on their content related to income inequality, changes in income, and economic conditions. The document provides detailed instructions on how to code articles based on whether they discuss issues of income inequality (relinequality), changes in income or wealth (relchanges), state of the economy (releconomy), or if they are irrelevant to these topics. The coding also takes into account the explicit or implicit mention of these issues, the groups discussed in the articles, and the impact of various policies or conditions on these groups.'"
      ]
     },
     "execution_count": 45,
     "metadata": {},
     "output_type": "execute_result"
    }
   ],
   "source": [
    "output_2.content"
   ]
  }
 ],
 "metadata": {
  "kernelspec": {
   "display_name": "Python 3 (ipykernel)",
   "language": "python",
   "name": "python3"
  },
  "language_info": {
   "codemirror_mode": {
    "name": "ipython",
    "version": 3
   },
   "file_extension": ".py",
   "mimetype": "text/x-python",
   "name": "python",
   "nbconvert_exporter": "python",
   "pygments_lexer": "ipython3",
   "version": "3.9.21"
  }
 },
 "nbformat": 4,
 "nbformat_minor": 5
}
