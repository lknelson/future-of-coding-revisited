{
 "cells": [
  {
   "cell_type": "code",
   "execution_count": 1,
   "id": "0dc1530b",
   "metadata": {},
   "outputs": [],
   "source": [
    "import ollama\n",
    "import pandas as pd "
   ]
  },
  {
   "cell_type": "code",
   "execution_count": 3,
   "id": "669d9bfa",
   "metadata": {},
   "outputs": [],
   "source": [
    "corpus = pd.read_json('../data/old_data_clean.json')"
   ]
  },
  {
   "cell_type": "code",
   "execution_count": 5,
   "id": "0419f5ff",
   "metadata": {},
   "outputs": [],
   "source": [
    "irrelevant_path =  '../data/relevant_irrelevant_combined_llama3_1.txt'\n",
    "with open(irrelevant_path, 'r') as file:\n",
    "    irrelevant_def = file.read()"
   ]
  },
  {
   "cell_type": "code",
   "execution_count": null,
   "id": "f54aaf2a",
   "metadata": {},
   "outputs": [],
   "source": [
    "meta_statement = \"\"\"We categorize articles that are related to issues of income inequality, changes in income or wealth, general economic conditions.\"\"\""
   ]
  },
  {
   "cell_type": "code",
   "execution_count": null,
   "id": "f8d89637",
   "metadata": {},
   "outputs": [],
   "source": [
    "output_list = []\n",
    "\n",
    "prompt = \"Is the article relevant? Answer relevant or irrelevant, and why in 1 sentence.\"\n",
    "\n",
    "for num in range(len(corpus)):\n",
    "    text = 'Title: ' + corpus.loc[num,'title'] + '\\n' + corpus.loc[num,'text']\n",
    "    print(num)\n",
    "    print(text[:20])\n",
    "    \n",
    "    response = ollama.chat(\n",
    "        model=\"llama3.1:70b\",\n",
    "        messages=[\n",
    "            {\n",
    "                \"role\": \"system\",\n",
    "                \"content\": \"You are a news classifier.\"\n",
    "            },\n",
    "            {\n",
    "                \"role\": \"user\",\n",
    "                \"content\": meta_statement,\n",
    "            },\n",
    "            {\n",
    "                \"role\": \"user\",\n",
    "                \"content\": \"Read this definition: \" + irrelevant_def,\n",
    "            },\n",
    "            {\n",
    "                \"role\": \"user\",\n",
    "                \"content\": \"Read this article: \" + text,\n",
    "            },\n",
    "            {\n",
    "                \"role\": \"user\",\n",
    "                \"content\": prompt\n",
    "            \n",
    "            },\n",
    "        ],\n",
    "    options={\n",
    "    \"seed\": 101,\n",
    "    \"temperature\": 0,\n",
    "    \"num_ctx\": 128200,\n",
    "    \"num_threads\": 20,\n",
    "    #\"num_predict\": 10,\n",
    "      }\n",
    "    )\n",
    "    output_list.append((response[\"message\"][\"content\"]))\n",
    "output_list"
   ]
  },
  {
   "cell_type": "code",
   "execution_count": null,
   "id": "e40a441f",
   "metadata": {},
   "outputs": [],
   "source": [
    "corpus['content'] = output_list\n",
    "\n",
    "corpus['gen_code'] = corpus['content']\n",
    "corpus.loc[corpus['content'].str.lower().str.startswith('irrelevant'), 'gen_code'] = 0\n",
    "corpus.loc[corpus['content'].str.lower().str.startswith('relevant'), 'gen_code'] = 1\n",
    "\n",
    "columns = ['title', 'year', 'month', 'journal', 'code', 'weight', 'code_label', 'id', 'code', 'content', 'gen_code']\n",
    "corpus = corpus[columns]"
   ]
  },
  {
   "cell_type": "code",
   "execution_count": null,
   "id": "a8ce166f",
   "metadata": {},
   "outputs": [],
   "source": [
    "corpus.to_csv('../data/inequality_dataset_llama3_1-70b-LlamaDefinition.csv')"
   ]
  }
 ],
 "metadata": {
  "kernelspec": {
   "display_name": "Python 3 (ipykernel)",
   "language": "python",
   "name": "python3"
  },
  "language_info": {
   "codemirror_mode": {
    "name": "ipython",
    "version": 3
   },
   "file_extension": ".py",
   "mimetype": "text/x-python",
   "name": "python",
   "nbconvert_exporter": "python",
   "pygments_lexer": "ipython3",
   "version": "3.9.21"
  }
 },
 "nbformat": 4,
 "nbformat_minor": 5
}
