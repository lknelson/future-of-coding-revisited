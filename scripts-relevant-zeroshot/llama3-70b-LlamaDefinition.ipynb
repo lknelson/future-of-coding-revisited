{
 "cells": [
  {
   "cell_type": "code",
   "execution_count": 21,
   "id": "0dc1530b",
   "metadata": {},
   "outputs": [],
   "source": [
    "import ollama\n",
    "import pandas as pd "
   ]
  },
  {
   "cell_type": "code",
   "execution_count": 3,
   "id": "669d9bfa",
   "metadata": {},
   "outputs": [],
   "source": [
    "corpus = pd.read_json('../data/old_data_clean.json')"
   ]
  },
  {
   "cell_type": "code",
   "execution_count": 5,
   "id": "0419f5ff",
   "metadata": {},
   "outputs": [],
   "source": [
    "irrelevant_path =  '../data/relevant_irrelevant_combined_llama.txt'\n",
    "with open(irrelevant_path, 'r') as file:\n",
    "    irrelevant_def = file.read()"
   ]
  },
  {
   "cell_type": "code",
   "execution_count": 7,
   "id": "b809c6c7",
   "metadata": {},
   "outputs": [
    {
     "data": {
      "text/plain": [
       "'Here are the bullet points for the definition of irrelevant articles:\\n* Stories that are not about the U.S.\\n* Articles on racial or gender inequality or gay rights in the U.S. (unless they also mention trends in economic inequality)\\n* Individuals whose names are part of a subject term (e.g., Marc Rich)\\n* References to popular culture that include part of a subject term (e.g., a movie named \"Big Business\")\\n* Clearly personal affairs about a single individual that do not comment on broader conditions\\n* Noneconomic elites (e.g., in art or religion or politics, where high economic status is neither implicit nor explicit)\\n* Social class as a predictor of non-economic phenomenon (e.g., health, education, drug use, social mobility, conspicuous and other kinds of consumption)\\n* Are about famous individuals or criminal cases or cases of corporate or union corruption that are treated as unique situations and do not have any reflection on broader conditions.\\n* Do not mention trends in economic inequality, even if they discuss policy or political debates and particular politicians.\\n* Articles that do not mention national economic conditions.\\n* Articles that do not mention changes in income/wage/earnings status or anything that falls under the inequality criteria.\\n* Articles not on the U.S. (i.e., articles about other countries).\\n* Articles on individuals or corporations that are not used as \"examples\" of something else related to releconomy, relchanges, or relinequality, such as:\\n\\t+ Stories on famous individuals/families.\\n\\t+ Criminal cases.\\n\\t+ Corporate corruption cases.\\n* Articles with a single mention of something that is relevant if the article is entirely on a different topic (e.g., conservatism as a subject keyword).\\n* Articles that use \"Labor\" as a subject keyword in conjunction with something else, such as Labor Education or Labor Mobility, unless they discuss job conditions and earnings of workers.\\n\\n'"
      ]
     },
     "execution_count": 7,
     "metadata": {},
     "output_type": "execute_result"
    }
   ],
   "source": [
    "## experiment 2: remove \"\\n\" character to save on token count if necessary \n",
    "irrelevant_def"
   ]
  },
  {
   "cell_type": "code",
   "execution_count": null,
   "id": "f54aaf2a",
   "metadata": {},
   "outputs": [],
   "source": [
    "meta_statement = \"\"\"We categorize articles that are related to issues of income inequality, changes in income or wealth, general economic conditions.\"\"\""
   ]
  },
  {
   "cell_type": "code",
   "execution_count": null,
   "id": "f8d89637",
   "metadata": {},
   "outputs": [],
   "source": [
    "max_char = 8000 * 4\n",
    "\n",
    "output_list = []\n",
    "\n",
    "prompt = \"Is the article relevant? Answer relevant or irrelevant, and why in 1 sentence.\"\n",
    "\n",
    "for num in range(len(corpus)):\n",
    "    text = 'Title: ' + corpus.loc[num,'title'] + '\\n' + corpus.loc[num,'text'][:max_char]\n",
    "    print(num)\n",
    "    print(text[:20])\n",
    "    \n",
    "    response = ollama.chat(\n",
    "        model=\"llama3:70b\",\n",
    "        messages=[\n",
    "            {\n",
    "                \"role\": \"system\",\n",
    "                \"content\": \"You are a news classifier.\"\n",
    "            },\n",
    "            {\n",
    "                \"role\": \"user\",\n",
    "                \"content\": meta_statement,\n",
    "            },\n",
    "            {\n",
    "                \"role\": \"user\",\n",
    "                \"content\": \"Read this definition: \" + irrelevant_def,\n",
    "            },\n",
    "            {\n",
    "                \"role\": \"user\",\n",
    "                \"content\": \"Read this article: \" + text,\n",
    "            },\n",
    "            {\n",
    "                \"role\": \"user\",\n",
    "                \"content\": prompt\n",
    "            \n",
    "            },\n",
    "        ],\n",
    "    options={\n",
    "    \"seed\": 101,\n",
    "    \"temperature\": 0,\n",
    "    \"num_ctx\": 8020,\n",
    "    \"num_threads\": 20,\n",
    "    #\"num_predict\": 10,\n",
    "      }\n",
    "    )\n",
    "    output_list.append((response[\"message\"][\"content\"]))"
   ]
  },
  {
   "cell_type": "code",
   "execution_count": null,
   "id": "e40a441f",
   "metadata": {},
   "outputs": [],
   "source": [
    "corpus['content'] = output_list\n",
    "\n",
    "corpus['gen_code'] = corpus['content']\n",
    "corpus.loc[corpus['content'].str.lower().str.startswith('irrelevant'), 'gen_code'] = 0\n",
    "corpus.loc[corpus['content'].str.lower().str.startswith('relevant'), 'gen_code'] = 1\n",
    "\n",
    "columns = ['title', 'year', 'month', 'journal', 'code', 'weight', 'code_label', 'id', 'code', 'content', 'gen_code']\n",
    "corpus = corpus[columns]"
   ]
  },
  {
   "cell_type": "code",
   "execution_count": null,
   "id": "a8ce166f",
   "metadata": {},
   "outputs": [],
   "source": [
    "corpus.to_csv('../data/inequality_dataset_llama3-70b-LlamaDefinition.csv')"
   ]
  }
 ],
 "metadata": {
  "kernelspec": {
   "display_name": "Python 3 (ipykernel)",
   "language": "python",
   "name": "python3"
  },
  "language_info": {
   "codemirror_mode": {
    "name": "ipython",
    "version": 3
   },
   "file_extension": ".py",
   "mimetype": "text/x-python",
   "name": "python",
   "nbconvert_exporter": "python",
   "pygments_lexer": "ipython3",
   "version": "3.9.21"
  }
 },
 "nbformat": 4,
 "nbformat_minor": 5
}
