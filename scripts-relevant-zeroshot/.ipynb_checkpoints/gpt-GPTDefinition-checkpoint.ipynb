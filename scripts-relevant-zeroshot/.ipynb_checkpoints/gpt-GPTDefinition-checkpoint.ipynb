{
 "cells": [
  {
   "cell_type": "code",
   "execution_count": null,
   "id": "800e27c3-3c59-4588-a23d-087c3c2bf85f",
   "metadata": {},
   "outputs": [],
   "source": [
    "!pip install openai\n",
    "import os\n",
    "import pdb\n",
    "import time\n",
    "import openai\n",
    "import requests\n",
    "import pandas as pd "
   ]
  },
  {
   "cell_type": "code",
   "execution_count": 2,
   "id": "1b09a78a",
   "metadata": {},
   "outputs": [],
   "source": [
    "import warnings\n",
    "warnings.filterwarnings('ignore')"
   ]
  },
  {
   "cell_type": "code",
   "execution_count": 3,
   "id": "72152208",
   "metadata": {},
   "outputs": [],
   "source": [
    "from sklearn.metrics import precision_score, recall_score, confusion_matrix, accuracy_score, f1_score"
   ]
  },
  {
   "cell_type": "code",
   "execution_count": 4,
   "id": "9945d27c",
   "metadata": {},
   "outputs": [],
   "source": [
    "# change this key frequently\n",
    "OPENAI_API_KEY = \"\""
   ]
  },
  {
   "cell_type": "code",
   "execution_count": 5,
   "id": "9269e5a3",
   "metadata": {},
   "outputs": [],
   "source": [
    "openai.api_key = OPENAI_API_KEY"
   ]
  },
  {
   "cell_type": "code",
   "execution_count": 6,
   "id": "6e5994ce",
   "metadata": {},
   "outputs": [],
   "source": [
    "def label_message(meta_statement, definition, article, prompt, role_user=\"user\"):\n",
    "\n",
    "    completion = openai.chat.completions.create(model=\"gpt-4\",\n",
    "                                              temperature = 0, # make sure that all answers are the same, \n",
    "                                              max_tokens = 50, # 8,000 is the max token length for GPT3.5\n",
    "                                              messages=[{\"role\": \"system\", \"content\": \"You are a news classifier.\"},\n",
    "                                                        {\"role\": role_user, \"content\": meta_statement},\n",
    "                                                        {\"role\": role_user, \"content\": f'Read this definition {definition}'},\n",
    "                                                        {\"role\": role_user, \"content\": f'Read this article {article}'},\n",
    "                                                        {\"role\": role_user, \"content\": prompt}]) \n",
    "    return completion.choices[0].message"
   ]
  },
  {
   "cell_type": "code",
   "execution_count": 7,
   "id": "669d9bfa",
   "metadata": {},
   "outputs": [],
   "source": [
    "news_articles = pd.read_json(\"old_data_clean.json\")"
   ]
  },
  {
   "cell_type": "code",
   "execution_count": 9,
   "id": "0419f5ff",
   "metadata": {},
   "outputs": [],
   "source": [
    "irrelevant_path =  'relevant_irrelevant_combined_gpt.txt'\n",
    "with open(irrelevant_path, 'r') as file:\n",
    "    irrelevant_def = file.read()"
   ]
  },
  {
   "cell_type": "code",
   "execution_count": 10,
   "id": "68c00b52",
   "metadata": {},
   "outputs": [],
   "source": [
    "research_goal = \"\"\"We categorize articles that are related to issues of income inequality, changes in income or wealth, general economic conditions.\"\"\""
   ]
  },
  {
   "cell_type": "code",
   "execution_count": 11,
   "id": "b809c6c7",
   "metadata": {},
   "outputs": [
    {
     "data": {
      "text/plain": [
       "\"- Articles that are not focused on the U.S.\\n- Articles that discuss racial or gender inequality or gay rights in the U.S.\\n- Articles where individuals' names are part of a subject term (e.g., Marc Rich).\\n- References to popular culture that include part of a subject term (e.g., a movie named “Big Business”).\\n- Personal affairs about a single individual that do not comment on broader conditions.\\n- Articles about noneconomic elites (e.g., in art or religion or politics, in which high economic status is neither implicit nor explicit).\\n- Social class as a predictor of non-economic phenomenon (e.g., health, education, drug use, social mobility, conspicuous and other kinds of consumption).\\n- Articles that mainly discuss policy or political debates and particular politicians, but do not contain qualifying text on relevant to inquality, relevant to changes, or relevant to economy.\\n- Most articles on affirmative action are considered irrelevant.\\n- Articles that discuss stories on famous individuals, criminal cases, or cases of corporate or union corruption that don't reflect broader conditions are deemed irrelevant.\\n- If an article is entirely on a different topic but has a single mention of something relevant, it is still classified as irrelevant.\\n- Articles that generally fall into this category were coded as irrelevant even if they had one mention of something that fell into one of the three other main categories (relevant to inequality, relevant to changes, relevant to economy).\\n- Articles that discuss conservative ideology because “conservatism” is a subject keyword are considered irrelevant.\\n- Stories that do not have any reflection on broader conditions are also coded as irrelevant.\""
      ]
     },
     "execution_count": 11,
     "metadata": {},
     "output_type": "execute_result"
    }
   ],
   "source": [
    "## experiment 2: remove \"\\n\" character to save on token count if necessary \n",
    "irrelevant_def"
   ]
  },
  {
   "cell_type": "code",
   "execution_count": 13,
   "id": "42d059f8",
   "metadata": {},
   "outputs": [],
   "source": [
    "cols = news_articles.columns.to_list()"
   ]
  },
  {
   "cell_type": "code",
   "execution_count": 14,
   "id": "d126e142",
   "metadata": {},
   "outputs": [],
   "source": [
    "keep_cols = cols[:37] \n",
    "keep_cols.append('token_count')"
   ]
  },
  {
   "cell_type": "code",
   "execution_count": 15,
   "id": "e2065949",
   "metadata": {},
   "outputs": [],
   "source": [
    "# only binary 1: \n",
    "binary1 = news_articles[keep_cols]"
   ]
  },
  {
   "cell_type": "code",
   "execution_count": null,
   "id": "d1594432",
   "metadata": {},
   "outputs": [],
   "source": [
    "messages = []\n",
    "max_char = 8000*3 \n",
    "max_token = 7500 # cushion for definition and meta-statement\n",
    "for i in range(len(binary1)):\n",
    "    if i % 100 == 0: \n",
    "        print(\"processing message\", i)\n",
    "    title = binary1.loc[i, 'title']\n",
    "    content = binary1.loc[i, 'text']\n",
    "    if binary1.loc[i,'token_count'] <= max_token: \n",
    "        content = f'title: {title} \\n article: {content}'\n",
    "    else: \n",
    "        content = f'title: {title} \\n article: {content[:max_char]}'\n",
    "    article_prompt = \"Is the article relevant? Answer relevant or irrelevant, and why in 1 sentence.\"\n",
    "    while True: \n",
    "        try: \n",
    "            output_message = label_message(meta_statement=research_goal, \n",
    "                                           article=content, \n",
    "                                           definition=irrelevant_def, \n",
    "                                           prompt=article_prompt)\n",
    "            break \n",
    "        except Exception as e:\n",
    "             time.sleep(30)       # add time lag of 30 seconds when an error occurs \n",
    "    messages.append(output_message) \n",
    "#     pdb.set_trace()"
   ]
  },
  {
   "cell_type": "code",
   "execution_count": 20,
   "id": "b8ac4292",
   "metadata": {},
   "outputs": [],
   "source": [
    "binary1['output_message'] = [message.content for message in messages]"
   ]
  },
  {
   "cell_type": "code",
   "execution_count": 22,
   "id": "c8751ce7",
   "metadata": {},
   "outputs": [],
   "source": [
    "binary1['output_message'] = binary1['output_message'].str.lower()"
   ]
  },
  {
   "cell_type": "code",
   "execution_count": 35,
   "id": "ff45495e",
   "metadata": {},
   "outputs": [],
   "source": [
    "def parse_answers(binary1, messages): \n",
    "    '''\n",
    "    parse the answer to binary 0 - irrelevant, 1 - relevant \n",
    "    '''\n",
    "    predicted = []\n",
    "    for message in messages: \n",
    "        if message.startswith(\"irrelevant\"): \n",
    "            predicted.append('irrelevant')\n",
    "        elif message.startswith(\"the article is irrelevant\"): \n",
    "            #pdb.set_trace()\n",
    "            predicted.append('irrelevant')\n",
    "        elif message.startswith(\"relevant\"): \n",
    "            predicted.append('relevant')\n",
    "        elif message.startswith(\"the article is relevant\"): \n",
    "            predicted.append('relevant')\n",
    "        else: \n",
    "            predicted.append('flag')\n",
    "    binary1['predicted_label'] = predicted\n",
    "    return "
   ]
  },
  {
   "cell_type": "code",
   "execution_count": 36,
   "id": "4f9310ee",
   "metadata": {},
   "outputs": [],
   "source": [
    "parse_answers(binary1, binary1['output_message'])"
   ]
  },
  {
   "cell_type": "code",
   "execution_count": 38,
   "id": "f2e11e4c",
   "metadata": {},
   "outputs": [
    {
     "data": {
      "text/plain": [
       "predicted_label\n",
       "relevant      898\n",
       "irrelevant    355\n",
       "Name: count, dtype: int64"
      ]
     },
     "execution_count": 38,
     "metadata": {},
     "output_type": "execute_result"
    }
   ],
   "source": [
    "# looks like there is no other type of output for further parsing because flag == 0\n",
    "binary1.predicted_label.value_counts()"
   ]
  },
  {
   "cell_type": "code",
   "execution_count": 55,
   "id": "2384964e",
   "metadata": {},
   "outputs": [],
   "source": [
    "# save the output for future comparison if needed \n",
    "binary1.to_csv('../data/inequality_dataset_GPT_GPTDefinition.csv', index=False)"
   ]
  }
 ],
 "metadata": {
  "kernelspec": {
   "display_name": "Python 3 (ipykernel)",
   "language": "python",
   "name": "python3"
  },
  "language_info": {
   "codemirror_mode": {
    "name": "ipython",
    "version": 3
   },
   "file_extension": ".py",
   "mimetype": "text/x-python",
   "name": "python",
   "nbconvert_exporter": "python",
   "pygments_lexer": "ipython3",
   "version": "3.9.21"
  }
 },
 "nbformat": 4,
 "nbformat_minor": 5
}
