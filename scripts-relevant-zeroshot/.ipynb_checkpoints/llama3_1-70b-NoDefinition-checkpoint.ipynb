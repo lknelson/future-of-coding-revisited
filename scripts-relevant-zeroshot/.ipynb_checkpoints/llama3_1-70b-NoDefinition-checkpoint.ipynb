{
 "cells": [
  {
   "cell_type": "code",
   "execution_count": 1,
   "id": "27134c8a",
   "metadata": {},
   "outputs": [],
   "source": [
    "import ollama\n",
    "import pandas as pd"
   ]
  },
  {
   "cell_type": "markdown",
   "id": "9474a982",
   "metadata": {},
   "source": [
    "## Classification Schema Selection"
   ]
  },
  {
   "cell_type": "markdown",
   "id": "ac5cb83f",
   "metadata": {},
   "source": [
    "Selection:\n",
    "\n",
    "binary1: irrelevant vs. explicit/implicit/relchanges/releconomy\n",
    "\n",
    "binary2: relchanges/releconomy/irrelevant vs. explicit/implicit\n",
    "\n",
    "binary3: releconomy/irrelevant vs. explicit/implicit/relchanges\n",
    "\n",
    "three_code1: irrelevant vs. implicit/relchanges/releconomy vs. explicit\n",
    "\n",
    "three_code2: irrelevant vs. relchanges/releconomy vs. explicit/implicit\n",
    "\n",
    "three_code3: releconomy/irrelevant vs. relchanges vs. explicit/implicit\n",
    "\n",
    "four_code: irrelevant vs. relchanges/releconomy\t vs. explicit vs. implicit\n",
    "\n",
    "four_code2: irrelevant vs. relchanges vs. explicit/implicit vs. releconomy\n",
    "\n",
    "five_code: irrelevant vs. relchanges vs. explicit vs. releconomy vs. implicit\n",
    "    "
   ]
  },
  {
   "cell_type": "code",
   "execution_count": null,
   "id": "dcd1d4f2",
   "metadata": {},
   "outputs": [],
   "source": [
    "corpus = pd.read_json('../data/old_data_clean.json')\n",
    "\n",
    "output_list = []\n",
    "\n",
    "meta_statement = \"\"\"We categorize articles that are related to issues of income inequality, changes in income or wealth, general economic conditions.\"\"\"\n",
    "\n",
    "prompt = \"Is the article relevant to American economic inequality? Answer relevant or irrelevant, and why in 1 sentence.\"\n",
    "\n",
    "for num in range(len(corpus)):\n",
    "    text = 'Title: ' + corpus.loc[num,'title'] + '\\n' + corpus.loc[num,'text']\n",
    "    print(num)\n",
    "    print(text[:20])\n",
    "\n",
    "    response = ollama.chat(\n",
    "        model=\"llama3.1:70b\",\n",
    "        messages=[\n",
    "            {\n",
    "                \"role\": \"system\",\n",
    "                \"content\": \"You are a news classifier.\"\n",
    "            },\n",
    "            {\n",
    "                \"role\": \"user\",\n",
    "                \"content\": meta_statement,\n",
    "            },\n",
    "\n",
    "            {\n",
    "                \"role\": \"user\",\n",
    "                \"content\": \"Read this article: \" + text,\n",
    "            },\n",
    "            {\n",
    "                \"role\": \"user\",\n",
    "                \"content\": prompt\n",
    "\n",
    "            },\n",
    "        ],\n",
    "    options={\n",
    "    \"seed\": 101,\n",
    "    \"temperature\": 0,\n",
    "    \"num_ctx\": 128200,\n",
    "    \"num_thread\": 30,\n",
    "    #\"num_predict\": 10,\n",
    "      }\n",
    "    )\n",
    "    output_list.append((response[\"message\"][\"content\"]))"
   ]
  },
  {
   "cell_type": "code",
   "execution_count": null,
   "id": "35cf2235",
   "metadata": {},
   "outputs": [],
   "source": [
    "corpus['content'] = output_list\n",
    "\n",
    "corpus['gen_code'] = corpus['content']\n",
    "\n",
    "corpus.loc[corpus['content'].str.lower().str.startswith('relevant'), 'gen_code'] = 1\n",
    "corpus.loc[corpus['content'].str.lower().str.startswith('irrelevant'), 'gen_code'] = 0\n",
    "\n",
    "columns = ['title', 'year', 'month', 'journal', 'code', 'weight', 'code_label', 'id', 'code', 'content', 'gen_code']\n",
    "corpus = corpus[columns]"
   ]
  },
  {
   "cell_type": "code",
   "execution_count": 24,
   "id": "4886c372",
   "metadata": {},
   "outputs": [],
   "source": [
    "corpus.to_csv('../data/inequality_dataset_llama3_1-70b-NoDefinition.csv',"
   ]
  }
 ],
 "metadata": {
  "kernelspec": {
   "display_name": "Python 3 (ipykernel)",
   "language": "python",
   "name": "python3"
  },
  "language_info": {
   "codemirror_mode": {
    "name": "ipython",
    "version": 3
   },
   "file_extension": ".py",
   "mimetype": "text/x-python",
   "name": "python",
   "nbconvert_exporter": "python",
   "pygments_lexer": "ipython3",
   "version": "3.9.21"
  }
 },
 "nbformat": 4,
 "nbformat_minor": 5
}
