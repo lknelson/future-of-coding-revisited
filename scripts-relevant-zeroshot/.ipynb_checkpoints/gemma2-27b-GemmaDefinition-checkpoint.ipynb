{
 "cells": [
  {
   "cell_type": "markdown",
   "id": "fc5f1d69",
   "metadata": {},
   "source": [
    "### July 17, 2024 run"
   ]
  },
  {
   "cell_type": "code",
   "execution_count": 2,
   "id": "0dc1530b",
   "metadata": {},
   "outputs": [],
   "source": [
    "import ollama\n",
    "import pandas as pd \n",
    "import numpy as np\n",
    "from sklearn.metrics import precision_score, recall_score, confusion_matrix, accuracy_score, f1_score"
   ]
  },
  {
   "cell_type": "code",
   "execution_count": 3,
   "id": "669d9bfa",
   "metadata": {},
   "outputs": [],
   "source": [
    "corpus = pd.read_json('../data/old_data_clean.json')"
   ]
  },
  {
   "cell_type": "code",
   "execution_count": 5,
   "id": "0419f5ff",
   "metadata": {},
   "outputs": [],
   "source": [
    "irrelevant_path =  '../data/relevant_irrelevant_combined_gemma.txt'\n",
    "with open(irrelevant_path, 'r') as file:\n",
    "    irrelevant_def = file.read()"
   ]
  },
  {
   "cell_type": "code",
   "execution_count": null,
   "id": "f54aaf2a",
   "metadata": {},
   "outputs": [],
   "source": [
    "meta_statement = \"\"\"We categorize articles that are related to issues of income inequality, changes in income or wealth, general economic conditions.\"\"\""
   ]
  },
  {
   "cell_type": "code",
   "execution_count": null,
   "id": "f8d89637",
   "metadata": {},
   "outputs": [],
   "source": [
    "max_char = 8000 * 4\n",
    "\n",
    "output_list = []\n",
    "\n",
    "prompt = \"Is the article relevant? Answer relevant or irrelevant, and why in 1 sentence.\"\n",
    "\n",
    "for num in range(len(corpus)):\n",
    "    text = 'Title: ' + corpus.loc[num,'title'] + '\\n' + corpus.loc[num,'text'][:max_char]\n",
    "    print(num)\n",
    "    print(text[:20])\n",
    "    \n",
    "    response = ollama.chat(\n",
    "        model=\"gemma2:72b\",\n",
    "        messages=[\n",
    "            {\n",
    "                \"role\": \"system\",\n",
    "                \"content\": \"You are a news classifier.\"\n",
    "            },\n",
    "            {\n",
    "                \"role\": \"user\",\n",
    "                \"content\": meta_statement,\n",
    "            },\n",
    "            {\n",
    "                \"role\": \"user\",\n",
    "                \"content\": \"Read this definition: \" + irrelevant_def,\n",
    "            },\n",
    "            {\n",
    "                \"role\": \"user\",\n",
    "                \"content\": \"Read this article: \" + text,\n",
    "            },\n",
    "            {\n",
    "                \"role\": \"user\",\n",
    "                \"content\": prompt\n",
    "            \n",
    "            },\n",
    "        ],\n",
    "    options={\n",
    "    \"seed\": 101,\n",
    "    \"temperature\": 0,\n",
    "    \"num_ctx\": 8020,\n",
    "    \"num_threads\": 30,\n",
    "    #\"num_predict\": 10,\n",
    "      }\n",
    "    )\n",
    "    output_list.append((response[\"message\"][\"content\"]))\n",
    "output_list"
   ]
  },
  {
   "cell_type": "code",
   "execution_count": null,
   "id": "e40a441f",
   "metadata": {},
   "outputs": [],
   "source": [
    "corpus['content'] = output_list"
   ]
  },
  {
   "cell_type": "code",
   "execution_count": null,
   "id": "7de76a9a-6e8c-4b64-b52a-84dac47daee5",
   "metadata": {},
   "outputs": [],
   "source": [
    "corpus['gen_code'] = corpus['content']\n",
    "corpus.loc[corpus['content'].str.lower().str.startswith('irrelevant'), 'gen_code'] = 0\n",
    "corpus.loc[corpus['content'].str.lower().str.startswith('relevant'), 'gen_code'] = 1"
   ]
  },
  {
   "cell_type": "code",
   "execution_count": null,
   "id": "a8ce166f",
   "metadata": {},
   "outputs": [],
   "source": [
    "columns = ['title', 'year', 'month', 'journal', 'code', 'weight', 'code_label', 'id', 'code', 'content', 'gen_code']\n",
    "corpus = corpus[columns]\n",
    "\n",
    "corpus.to_csv('../data/inequality_dataset_gemma2-27b-GemmaDefinition.csv')"
   ]
  }
 ],
 "metadata": {
  "kernelspec": {
   "display_name": "Python 3 (ipykernel)",
   "language": "python",
   "name": "python3"
  },
  "language_info": {
   "codemirror_mode": {
    "name": "ipython",
    "version": 3
   },
   "file_extension": ".py",
   "mimetype": "text/x-python",
   "name": "python",
   "nbconvert_exporter": "python",
   "pygments_lexer": "ipython3",
   "version": "3.9.21"
  }
 },
 "nbformat": 4,
 "nbformat_minor": 5
}
