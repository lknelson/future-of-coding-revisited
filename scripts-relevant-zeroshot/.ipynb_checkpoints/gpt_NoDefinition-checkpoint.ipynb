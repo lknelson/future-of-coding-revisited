{
 "cells": [
  {
   "cell_type": "markdown",
   "id": "fc5f1d69",
   "metadata": {},
   "source": [
    "### August 7, 2024 run \n",
    "\n",
    "- Using GPT4 for baseline irrelevant with new parsing from GPT4\n",
    "- label each paragraph as relevant or irrelevant. If one relevant found. Mark the entire article as relevant \n",
    "- using uniform structure across tests\n",
    "- replicating Laura's gemma code"
   ]
  },
  {
   "cell_type": "code",
   "execution_count": 1,
   "id": "0dc1530b",
   "metadata": {},
   "outputs": [],
   "source": [
    "#!pip install openai\n",
    "import os\n",
    "import pdb\n",
    "import time\n",
    "import openai\n",
    "import requests\n",
    "import pandas as pd "
   ]
  },
  {
   "cell_type": "code",
   "execution_count": 2,
   "id": "1b09a78a",
   "metadata": {},
   "outputs": [],
   "source": [
    "import warnings\n",
    "warnings.filterwarnings('ignore')"
   ]
  },
  {
   "cell_type": "code",
   "execution_count": 3,
   "id": "72152208",
   "metadata": {},
   "outputs": [],
   "source": [
    "from sklearn.metrics import precision_score, recall_score, confusion_matrix, accuracy_score, f1_score"
   ]
  },
  {
   "cell_type": "code",
   "execution_count": 4,
   "id": "9945d27c",
   "metadata": {},
   "outputs": [],
   "source": [
    "# change this key frequently\n",
    "OPENAI_API_KEY = \"\""
   ]
  },
  {
   "cell_type": "code",
   "execution_count": 5,
   "id": "9269e5a3",
   "metadata": {},
   "outputs": [],
   "source": [
    "openai.api_key = OPENAI_API_KEY"
   ]
  },
  {
   "cell_type": "code",
   "execution_count": 6,
   "id": "6e5994ce",
   "metadata": {},
   "outputs": [],
   "source": [
    "def label_message(meta_statement, definition, article, prompt, role_user=\"user\"):\n",
    "\n",
    "    completion = openai.chat.completions.create(model=\"gpt-4\",\n",
    "                                              temperature = 0, # make sure that all answers are the same, \n",
    "                                              max_tokens = 50, # 8,000 is the max token length for GPT3.5\n",
    "                                              messages=[{\"role\": \"system\", \"content\": \"You are a news classifier.\"},\n",
    "                                                        {\"role\": role_user, \"content\": meta_statement},\n",
    "                                                        #{\"role\": role_user, \"content\": f'Read this definition {definition}'},\n",
    "                                                        {\"role\": role_user, \"content\": f'Read this article {article}'},\n",
    "                                                        {\"role\": role_user, \"content\": prompt}]) \n",
    "    return completion.choices[0].message"
   ]
  },
  {
   "cell_type": "code",
   "execution_count": 7,
   "id": "669d9bfa",
   "metadata": {},
   "outputs": [],
   "source": [
    "news_articles = pd.read_json(\"old_data_clean_wo_missed_label.json\")"
   ]
  },
  {
   "cell_type": "code",
   "execution_count": 9,
   "id": "0419f5ff",
   "metadata": {},
   "outputs": [],
   "source": [
    "#Note - this is not used in this baseline, no definition run\n",
    "irrelevant_def = \"\"\"\n",
    "The irrelevant category includes all stories that are not on the U.S.; are on racial or gender inequality or gay rights in the U.S.; individuals whose names are part of a subject term (e.g., Marc Rich); references to popular culture that include part of a subject term (e.g., a movie named “Big Business”); clearly personal affairs about a single individual that do not comment on broader conditions; noneconomic elites (e.g., in art or religion or politics, in which high economic status is neither implicit nor explicit); and social class as a predictor of non-economic phenomenon (e.g., health, education, drug use, social mobility, conspicuous and other kinds of consumption). Occasionally there are stories on famous individuals or criminal cases or cases of corporate or union corruption that are treated as unique situations and do not have any reflection on broader conditions. In these cases, the article can be coded as irrelevant.\n",
    "Some articles on the above subjects, however, will also mention trends in economic inequality in the article and therefore can be relevant. Similarly, if an article is on any of the above topics and income inequality, then it will be relevant as well. For example, some articles may consist mainly of discussions of policy or political debates and particular politicians. Nevertheless, if qualifying text on relinquality, relchanges, or releconomy are in the article, then it will not be irrelevant.\n",
    "\"\"\""
   ]
  },
  {
   "cell_type": "code",
   "execution_count": 10,
   "id": "68c00b52",
   "metadata": {},
   "outputs": [],
   "source": [
    "research_goal = \"\"\"We categorize articles that are related to issues of income inequality, changes in income or wealth, general economic conditions.\"\"\""
   ]
  },
  {
   "cell_type": "code",
   "execution_count": 13,
   "id": "42d059f8",
   "metadata": {},
   "outputs": [],
   "source": [
    "cols = news_articles.columns.to_list()"
   ]
  },
  {
   "cell_type": "code",
   "execution_count": 15,
   "id": "d126e142",
   "metadata": {},
   "outputs": [],
   "source": [
    "keep_cols = cols[:37] \n",
    "keep_cols.append('token_count')\n",
    "#keep_cols"
   ]
  },
  {
   "cell_type": "code",
   "execution_count": 16,
   "id": "e2065949",
   "metadata": {
    "scrolled": true
   },
   "outputs": [],
   "source": [
    "# only binary 1: \n",
    "binary1 = news_articles[keep_cols]"
   ]
  },
  {
   "cell_type": "code",
   "execution_count": null,
   "id": "d1594432",
   "metadata": {},
   "outputs": [],
   "source": [
    "messages = []\n",
    "max_char = 8000*3 \n",
    "max_token = 7500 # cushion for definition and meta-statement\n",
    "for i in range(len(binary1)):\n",
    "    if i % 100 == 0: \n",
    "        print(\"processing message\", i)\n",
    "    title = binary1.loc[i, 'title']\n",
    "    content = binary1.loc[i, 'text']\n",
    "    if binary1.loc[i,'token_count'] <= max_token: \n",
    "        content = f'title: {title} \\n article: {content}'\n",
    "    else: \n",
    "        content = f'title: {title} \\n article: {content[:max_char]}'\n",
    "    article_prompt = \"Is the article relevant to American economic inequality? Answer relevant or irrelevant, and why in 1 sentence.\"\n",
    "    while True: \n",
    "        try: \n",
    "            output_message = label_message(meta_statement=research_goal, \n",
    "                                           article=content, \n",
    "                                           definition=irrelevant_def, \n",
    "                                           prompt=article_prompt)\n",
    "            break \n",
    "        except Exception as e:\n",
    "             time.sleep(30)       # add time lag of 30 seconds when an error occurs \n",
    "    messages.append(output_message) \n",
    "#     pdb.set_trace()"
   ]
  },
  {
   "cell_type": "code",
   "execution_count": 24,
   "id": "b8ac4292",
   "metadata": {
    "scrolled": true
   },
   "outputs": [],
   "source": [
    "binary1['output_message'] = [message.content for message in messages]"
   ]
  },
  {
   "cell_type": "code",
   "execution_count": 25,
   "id": "c8751ce7",
   "metadata": {},
   "outputs": [],
   "source": [
    "binary1['output_message'] = binary1['output_message'].str.lower()"
   ]
  },
  {
   "cell_type": "code",
   "execution_count": 27,
   "id": "ff45495e",
   "metadata": {},
   "outputs": [],
   "source": [
    "def parse_answers(binary1, messages): \n",
    "    '''\n",
    "    parse the answer to binary 0 - irrelevant, 1 - relevant \n",
    "    '''\n",
    "    predicted = []\n",
    "    for message in messages: \n",
    "        if message.startswith(\"irrelevant\"): \n",
    "            predicted.append('irrelevant')\n",
    "        elif message.startswith(\"the article is irrelevant\"): \n",
    "            #pdb.set_trace()\n",
    "            predicted.append('irrelevant')\n",
    "        elif message.startswith(\"relevant\"): \n",
    "            predicted.append('relevant')\n",
    "        elif message.startswith(\"the article is relevant\"): \n",
    "            predicted.append('relevant')\n",
    "        else: \n",
    "            predicted.append('flag')\n",
    "    binary1['predicted_label'] = predicted\n",
    "    return "
   ]
  },
  {
   "cell_type": "code",
   "execution_count": 28,
   "id": "4f9310ee",
   "metadata": {},
   "outputs": [],
   "source": [
    "parse_answers(binary1, binary1['output_message'])"
   ]
  },
  {
   "cell_type": "code",
   "execution_count": 32,
   "id": "101e4494",
   "metadata": {},
   "outputs": [],
   "source": [
    "# if code == 5, it'an irrelevant article \n",
    "labels = [int(code_i != 5) for code_i in binary1.code]"
   ]
  },
  {
   "cell_type": "code",
   "execution_count": 33,
   "id": "0de2de98",
   "metadata": {},
   "outputs": [],
   "source": [
    "binary1['label'] = labels"
   ]
  },
  {
   "cell_type": "code",
   "execution_count": 35,
   "id": "72c6f8be",
   "metadata": {},
   "outputs": [],
   "source": [
    "# assign all predicted labels as 0 \n",
    "binary1['pred'] = [0]*len(binary1)"
   ]
  },
  {
   "cell_type": "code",
   "execution_count": 36,
   "id": "809a34d5",
   "metadata": {},
   "outputs": [],
   "source": [
    "# change those predicted as relevant to 1 \n",
    "binary1.loc[binary1.predicted_label=='relevant', 'pred'] = 1"
   ]
  },
  {
   "cell_type": "code",
   "execution_count": 43,
   "id": "2384964e",
   "metadata": {},
   "outputs": [],
   "source": [
    "# save the output for future comparison if needed \n",
    "binary1.to_csv(\"../data/inequality_dataset_GPT_NoDefinition.csv\", index=False)"
   ]
  }
 ],
 "metadata": {
  "kernelspec": {
   "display_name": "Python 3 (ipykernel)",
   "language": "python",
   "name": "python3"
  },
  "language_info": {
   "codemirror_mode": {
    "name": "ipython",
    "version": 3
   },
   "file_extension": ".py",
   "mimetype": "text/x-python",
   "name": "python",
   "nbconvert_exporter": "python",
   "pygments_lexer": "ipython3",
   "version": "3.9.21"
  }
 },
 "nbformat": 4,
 "nbformat_minor": 5
}
