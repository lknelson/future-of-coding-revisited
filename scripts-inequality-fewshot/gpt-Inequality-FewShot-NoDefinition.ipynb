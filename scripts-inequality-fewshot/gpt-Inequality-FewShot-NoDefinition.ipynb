{
 "cells": [
  {
   "cell_type": "code",
   "execution_count": 1,
   "id": "0dc1530b",
   "metadata": {},
   "outputs": [],
   "source": [
    "#!pip install openai\n",
    "import os\n",
    "import pdb\n",
    "import time\n",
    "import openai\n",
    "import requests\n",
    "import pandas as pd "
   ]
  },
  {
   "cell_type": "code",
   "execution_count": 2,
   "id": "1b09a78a",
   "metadata": {},
   "outputs": [],
   "source": [
    "import warnings\n",
    "warnings.filterwarnings('ignore')"
   ]
  },
  {
   "cell_type": "code",
   "execution_count": 3,
   "id": "72152208",
   "metadata": {},
   "outputs": [],
   "source": [
    "from sklearn.metrics import precision_score, recall_score, confusion_matrix, accuracy_score, f1_score"
   ]
  },
  {
   "cell_type": "code",
   "execution_count": 4,
   "id": "9945d27c",
   "metadata": {},
   "outputs": [],
   "source": [
    "# change this key frequently\n",
    "OPENAI_API_KEY = \"\""
   ]
  },
  {
   "cell_type": "code",
   "execution_count": 5,
   "id": "9269e5a3",
   "metadata": {},
   "outputs": [],
   "source": [
    "openai.api_key = OPENAI_API_KEY"
   ]
  },
  {
   "cell_type": "code",
   "execution_count": 6,
   "id": "6e5994ce",
   "metadata": {},
   "outputs": [],
   "source": [
    "def label_message(meta_statement, definition, article, prompt, examples, role_user=\"user\"):\n",
    "\n",
    "    completion = openai.chat.completions.create(model=\"gpt-4\",\n",
    "                                              temperature = 0, # make sure that all answers are the same, \n",
    "                                              max_tokens = 50, # 8,000 is the max token length for GPT3.5\n",
    "                                              messages=[{\"role\": \"system\", \"content\": \"You are a news classifier.\"},\n",
    "                                                        {\"role\": role_user, \"content\": meta_statement},\n",
    "                                                        #{\"role\": role_user, \"content\": f'Read this definition {definition}'},\n",
    "                                                        {\"role\": role_user, \"content\": f'Read this article {article}'},\n",
    "                                                        {\"role\": role_user, \"content\": prompt},\n",
    "                                                        {\"role\": role_user, \"content\": \"Here are a few examples :\\n\" + examples}])\n",
    "                                                        #{\"role\": role_user, \"content\": \"Input :\" + article}, \n",
    "                                                        #{\"role\": role_user, \"content\": \"Output: \"}]) ## this is to tell gpt 3.5 to give output according to structure \n",
    "\n",
    "    return completion.choices[0].message"
   ]
  },
  {
   "cell_type": "code",
   "execution_count": 7,
   "id": "669d9bfa",
   "metadata": {},
   "outputs": [],
   "source": [
    "news_articles = pd.read_json(\"old_data_clean.json\")"
   ]
  },
  {
   "cell_type": "code",
   "execution_count": 9,
   "id": "3aeae993",
   "metadata": {},
   "outputs": [],
   "source": [
    "def map_values(value):\n",
    "    if value == 'irrelevant':\n",
    "        return '5'\n",
    "    elif value == 'relchanges':\n",
    "        return '3'\n",
    "    elif value == 'explicit':\n",
    "        return '1'\n",
    "    elif value == 'releconomy':\n",
    "        return '4'\n",
    "    elif value == 'implicit':\n",
    "        return '2'\n",
    "    else:\n",
    "        return 'Unknown'"
   ]
  },
  {
   "cell_type": "code",
   "execution_count": 10,
   "id": "4c32418b",
   "metadata": {},
   "outputs": [
    {
     "data": {
      "text/plain": [
       "array(['5', '3', '1', '4', '2'], dtype=object)"
      ]
     },
     "execution_count": 10,
     "metadata": {},
     "output_type": "execute_result"
    }
   ],
   "source": [
    "# Apply the function to create the new column\n",
    "news_articles['label'] = news_articles['five_code'].apply(map_values)\n",
    "news_articles['label'].unique()"
   ]
  },
  {
   "cell_type": "code",
   "execution_count": 11,
   "id": "48a1818b",
   "metadata": {},
   "outputs": [
    {
     "data": {
      "text/plain": [
       "786"
      ]
     },
     "execution_count": 11,
     "metadata": {},
     "output_type": "execute_result"
    }
   ],
   "source": [
    "rel_news_articles = news_articles[news_articles['label'] != '5'].reset_index(drop=True)\n",
    "len(rel_news_articles)"
   ]
  },
  {
   "cell_type": "code",
   "execution_count": 13,
   "id": "0419f5ff",
   "metadata": {},
   "outputs": [],
   "source": [
    "inequality_def = \"\"\"Criteria for referencing economic inequality in the United States:\n",
    "(1) Wage, earnings, pay, and income inequality. \n",
    "(2) Causes and policy solutions related to economic inequality. \n",
    "(3) Relational or comparative language among different social class groups.\"\"\""
   ]
  },
  {
   "cell_type": "code",
   "execution_count": 14,
   "id": "68c00b52",
   "metadata": {},
   "outputs": [],
   "source": [
    "research_goal = \"\"\"We categorize articles that are related to issues of income inequality, changes in income or wealth, general economic conditions.\"\"\""
   ]
  },
  {
   "cell_type": "code",
   "execution_count": 15,
   "id": "b809c6c7",
   "metadata": {},
   "outputs": [
    {
     "data": {
      "text/plain": [
       "'Criteria for referencing economic inequality in the United States:\\n(1) Wage, earnings, pay, and income inequality. \\n(2) Causes and policy solutions related to economic inequality. \\n(3) Relational or comparative language among different social class groups.'"
      ]
     },
     "execution_count": 15,
     "metadata": {},
     "output_type": "execute_result"
    }
   ],
   "source": [
    "inequality_def"
   ]
  },
  {
   "cell_type": "code",
   "execution_count": 16,
   "id": "7ec919a4",
   "metadata": {},
   "outputs": [
    {
     "data": {
      "text/plain": [
       "'We categorize articles that are related to issues of income inequality, changes in income or wealth, general economic conditions.'"
      ]
     },
     "execution_count": 16,
     "metadata": {},
     "output_type": "execute_result"
    }
   ],
   "source": [
    "research_goal"
   ]
  },
  {
   "cell_type": "code",
   "execution_count": 17,
   "id": "5e5f86d2",
   "metadata": {},
   "outputs": [],
   "source": [
    "example_articles = \"\"\"Input: Blame Game An unalterable truth in Washington is that everything is about the next election--as President Bush is about to find out in the upcoming battle of the budget. In the Clinton era, budget wars were rollicking political brawls with defining consequences. The best and most obvious example: the government shutdown of 1995. With the economy lagging, the surplus evaporating, and the Democrats controlling the Senate, President Bush enters his first budget fight with fewer advantages than he held on Inauguration Day. Soon he must confront the reality that while the budget deals with the nitty-gritty of collecting and spending some $ 2 trillion annually, it also provides a grand stage for unsubtle overtures to voters, who go to the polls next year to elect all 435 members of the House and more than a third of the Senate. With three prominent GOP senators announcing their retirement from the closely divided Senate, Republicans have 20 seats to defend, while Democrats have only 14 incumbents up for re-election. With the planned departures of Strom Thurmond, Jesse Helms, and Phil Gramm, the Republican task of retaking the Senate grows more daunting by the day. A Democrat-controlled Senate in 2002 means that President Bush will go into his own re-election two years later with South Dakota Democrat Tom Daschle as majority leader, one who could derail the White House's agenda. Reveling in a sooner than expected bout of I-told-you-so, Democrats point to the dwindling federal budget surplus and warn that the Bush administration will be forced to break its campaign pledge that it would not use Social Security taxes for anything other than Social Security benefits. Daschle has been adroitly laying the foundation for blame. \"Certainly, they are the architects of our current economic condition, and I think we have to turn to them for leadership now as we find our way out of this box that has been created,\" he says. The pressure points are obvious. Bush has requested an additional $ 18.3 billion for defense. There has been little progress on how to fund the president's educational reform package. His energy plan is unresolved. On the other side, Democrats want to increase the minimum wage, which most in the GOP oppose if there aren't tax breaks for small businesses. And the Democrats want a prescription drug benefit for Medicare recipients, which could cost $ 300 billion over the next decade. Bush defends his budget by saying that it could accommodate his cherished tax cut and other proposals if only Congress could restrain its chronic tendencies toward spending. But those wise to Washington's ways also know that spending has its virtues. After all, many of the millions spent on so-called pet projects will figure prominently in the political stump speeches during the next election cycle. Output: Yes.\n",
    "              Input: State and local tax collections reached $320.2 billion in 1984, an increase of 12.5 percent over the previous year, the Commerce Department reported. The state-and-local tax bite averaged $1,356 per person -- or $117 for each $1,000 of personal income. Alaska led the nation with $4,704 per person and $286 per $1,000 of income. Per Per $1,000 capita income Alaska $4,704 $286 Wyoming $2,504 $209 Dist. of Columbia $2,300 $146 New York $2,130 $165 Minnesota $1,706 $144 Connecticut $1,656 $112 New Jersey $1,637 $117 Michigan $1,575 $138 Wisconsin $1,556 $137 Massachusetts $1,549 $117 Hawaii $1,543 $129 Maryland $1,503 $117 California $1,503 $115 Washington $1,416 $118 Illinois $1,405 $113 Rhode Island $1,403 $121 Delaware $1,400 $112 U.S. average $1,356 $117 Nevada $1,353 $111 Colorado $1,339 $106 North Dakota $1,334 $115 Oregon $1,321 $124 Pennsylvania $1,309 $114 Montana $1,275 $129 Iowa $1,273 $119 Vermont $1,271 $129 Kansas $1,260 $103 Arizona $1,246 $120 Ohio $1,246 $111 Nebraska $1,232 $110 Maine $1,229 $126 Virginia $1,210 $101 New Mexico $1,194 $126 Oklahoma $1,159 $106 Utah $1,133 $129 Texas $1,115 $ 97 Louisiana $1,114 $109 West Virginia $1,113 $121 Indiana $1,093 $105 New Hampshire $1,092 $ 93 Georgia $1,073 $105 Florida $1,073 $ 95 North Carolina $1,027 $106 Missouri $1,012 $ 93 South Carolina $ 981 $108 South Dakota $ 978 $100 Kentucky $ 955 $102 Idaho $ 953 $101 Alabama $ 916 $100 Tennessee $ 878 $ 93 Mississippi $ 871 $108 Arkansas $ 866 $ 97. Output: No.\"\"\""
   ]
  },
  {
   "cell_type": "code",
   "execution_count": 19,
   "id": "42d059f8",
   "metadata": {},
   "outputs": [],
   "source": [
    "cols = rel_news_articles.columns.to_list()"
   ]
  },
  {
   "cell_type": "code",
   "execution_count": 20,
   "id": "d126e142",
   "metadata": {},
   "outputs": [],
   "source": [
    "keep_cols = cols[:37] \n",
    "keep_cols.append('token_count')\n",
    "#keep_cols"
   ]
  },
  {
   "cell_type": "code",
   "execution_count": 21,
   "id": "e2065949",
   "metadata": {
    "scrolled": true
   },
   "outputs": [],
   "source": [
    "# only binary 1: \n",
    "binary1 = rel_news_articles[keep_cols]"
   ]
  },
  {
   "cell_type": "code",
   "execution_count": null,
   "id": "d1594432",
   "metadata": {},
   "outputs": [],
   "source": [
    "messages = []\n",
    "max_char = 4000*3 \n",
    "#max_token = 7500 # cushion for definition and meta-statement\n",
    "for i in range(len(binary1)):\n",
    "    if i % 100 == 0: \n",
    "        print(\"processing message\", i)\n",
    "    title = binary1.loc[i, 'title']\n",
    "    content = binary1.loc[i, 'text']\n",
    "    #if binary1.loc[i,'token_count'] <= max_token: \n",
    "    #    content = f'title: {title} \\n article: {content}'\n",
    "    #else: \n",
    "    #    content = f'title: {title} \\n article: {content[:max_char]}'\n",
    "    content = f'title: {title} \\n article: {content[:max_char]}'\n",
    "    article_prompt = \"Does the article reference American economic inequality? Respond with 'Yes' if article meets any or all criteria referencing American economic inequality and 'No' if article meets none of the criteria, and explain why in 1 sentence.\"\n",
    "    while True: \n",
    "        try: \n",
    "            output_message = label_message(meta_statement=research_goal, \n",
    "                                           article=content, \n",
    "                                           definition=inequality_def, \n",
    "                                           examples=example_articles,\n",
    "                                           prompt=article_prompt)\n",
    "            break \n",
    "        except Exception as e:\n",
    "             time.sleep(30)       # add time lag of 30 seconds when an error occurs \n",
    "    messages.append(output_message) \n",
    "#     pdb.set_trace()"
   ]
  },
  {
   "cell_type": "code",
   "execution_count": 25,
   "id": "b8ac4292",
   "metadata": {
    "scrolled": true
   },
   "outputs": [],
   "source": [
    "binary1['output_message'] = [message.content for message in messages]"
   ]
  },
  {
   "cell_type": "code",
   "execution_count": 26,
   "id": "c8751ce7",
   "metadata": {},
   "outputs": [],
   "source": [
    "binary1['output_message'] = binary1['output_message'].str.lower()"
   ]
  },
  {
   "cell_type": "code",
   "execution_count": 28,
   "id": "ff45495e",
   "metadata": {},
   "outputs": [],
   "source": [
    "def parse_answers(binary1, messages): \n",
    "    '''\n",
    "    parse the answer to binary no - non-inequality, yes - inequality \n",
    "    '''\n",
    "    predicted = []\n",
    "    for message in messages: \n",
    "        if message.startswith(\"yes\"): \n",
    "            predicted.append('yes')\n",
    "        elif message.startswith(\"no\"): \n",
    "            predicted.append('no')\n",
    "        else: \n",
    "            predicted.append('flag')\n",
    "    binary1['predicted_label'] = predicted\n",
    "    return "
   ]
  },
  {
   "cell_type": "code",
   "execution_count": 29,
   "id": "4f9310ee",
   "metadata": {},
   "outputs": [],
   "source": [
    "parse_answers(binary1, binary1['output_message'])"
   ]
  },
  {
   "cell_type": "code",
   "execution_count": 45,
   "id": "2384964e",
   "metadata": {},
   "outputs": [],
   "source": [
    "# save the output for future comparison if needed \n",
    "binary1.to_csv(\"../data/inequality_dataset_GPT_Inequality-FewShot-NoDefinition.csv\", index=False)"
   ]
  }
 ],
 "metadata": {
  "kernelspec": {
   "display_name": "Python 3 (ipykernel)",
   "language": "python",
   "name": "python3"
  },
  "language_info": {
   "codemirror_mode": {
    "name": "ipython",
    "version": 3
   },
   "file_extension": ".py",
   "mimetype": "text/x-python",
   "name": "python",
   "nbconvert_exporter": "python",
   "pygments_lexer": "ipython3",
   "version": "3.9.21"
  }
 },
 "nbformat": 4,
 "nbformat_minor": 5
}
